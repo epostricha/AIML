{
  "nbformat": 4,
  "nbformat_minor": 0,
  "metadata": {
    "colab": {
      "name": "SVHN_NN_Solution (3).ipynb",
      "provenance": [],
      "collapsed_sections": []
    },
    "kernelspec": {
      "name": "python3",
      "display_name": "Python 3"
    },
    "accelerator": "GPU"
  },
  "cells": [
    {
      "cell_type": "code",
      "metadata": {
        "id": "f0vPUGcf26Og",
        "colab": {
          "base_uri": "https://localhost:8080/"
        },
        "outputId": "14237a20-e523-42ef-b1e7-5f7ac671fa70"
      },
      "source": [
        "\n",
        "from google.colab import drive\n",
        "drive.mount('/content/drive')\n",
        "import os"
      ],
      "execution_count": null,
      "outputs": [
        {
          "output_type": "stream",
          "text": [
            "Mounted at /content/drive\n"
          ],
          "name": "stdout"
        }
      ]
    },
    {
      "cell_type": "code",
      "metadata": {
        "id": "_dFBKyhAhwgl",
        "colab": {
          "base_uri": "https://localhost:8080/"
        },
        "outputId": "0d48ca6c-d7ad-427c-cf0f-92528305a925"
      },
      "source": [
        "!ls \"/content/drive/My Drive\""
      ],
      "execution_count": null,
      "outputs": [
        {
          "output_type": "stream",
          "text": [
            " cnn_mnist_weights.h5   GLI\t\t\t SVHN_single_grey1.h5\n",
            "'Colab Notebooks'       human_activity.csv\t VGG16_customization.ipynb\n",
            "'Getting started.pdf'   SVHN_NN_Solution.ipynb\n"
          ],
          "name": "stdout"
        }
      ]
    },
    {
      "cell_type": "code",
      "metadata": {
        "id": "BApX9qgNsqV0",
        "scrolled": true
      },
      "source": [
        "import h5py\n",
        "import numpy as np\n",
        "\n",
        "# Open the file as readonly\n",
        "h5f = h5py.File(\"/content/drive/My Drive/SVHN_single_grey1.h5\", 'r')\n",
        "\n",
        "# Load the training, test and validation set\n",
        "X_train = h5f['X_train'][:]\n",
        "y_train1 = h5f['y_train'][:]\n",
        "X_test = h5f['X_test'][:]\n",
        "y_test1 = h5f['y_test'][:]\n",
        "\n",
        "\n"
      ],
      "execution_count": null,
      "outputs": []
    },
    {
      "cell_type": "code",
      "metadata": {
        "id": "ZNMj_zo2uL-H",
        "colab": {
          "base_uri": "https://localhost:8080/"
        },
        "outputId": "af02976c-7195-407e-e007-39320e0e6783"
      },
      "source": [
        "list(h5f.keys())"
      ],
      "execution_count": null,
      "outputs": [
        {
          "output_type": "execute_result",
          "data": {
            "text/plain": [
              "['X_test', 'X_train', 'X_val', 'y_test', 'y_train', 'y_val']"
            ]
          },
          "metadata": {
            "tags": []
          },
          "execution_count": 37
        }
      ]
    },
    {
      "cell_type": "code",
      "metadata": {
        "id": "AcgggWK4ui08"
      },
      "source": [
        "dset = h5f['X_test']"
      ],
      "execution_count": null,
      "outputs": []
    },
    {
      "cell_type": "code",
      "metadata": {
        "id": "vkRfY0xKuvgs",
        "colab": {
          "base_uri": "https://localhost:8080/"
        },
        "outputId": "08858e89-96fb-4dee-daeb-e5955522e5bf"
      },
      "source": [
        "dset.shape"
      ],
      "execution_count": null,
      "outputs": [
        {
          "output_type": "execute_result",
          "data": {
            "text/plain": [
              "(18000, 32, 32)"
            ]
          },
          "metadata": {
            "tags": []
          },
          "execution_count": 14
        }
      ]
    },
    {
      "cell_type": "code",
      "metadata": {
        "id": "b_VmDNZEvbOG",
        "colab": {
          "base_uri": "https://localhost:8080/"
        },
        "outputId": "20aecb2e-069a-4d2c-f9e9-9ad05311f6ce"
      },
      "source": [
        "dset[0]"
      ],
      "execution_count": null,
      "outputs": [
        {
          "output_type": "execute_result",
          "data": {
            "text/plain": [
              "array([[ 40.558 ,  46.7917,  48.9764, ..., 112.1153, 112.9904, 112.1646],\n",
              "       [ 39.4379,  44.2911,  47.1768, ..., 111.0122, 110.9475, 109.9368],\n",
              "       [ 38.4488,  43.6394,  48.7098, ..., 109.8921, 109.9414, 109.1048],\n",
              "       ...,\n",
              "       [ 34.9869,  35.4707,  39.6676, ..., 109.211 , 109.9074, 112.7346],\n",
              "       [ 35.6602,  35.5462,  40.3193, ..., 110.9998, 112.049 , 114.3431],\n",
              "       [ 36.1871,  35.4214,  40.6998, ..., 110.0169, 111.2017, 114.1906]],\n",
              "      dtype=float32)"
            ]
          },
          "metadata": {
            "tags": []
          },
          "execution_count": 39
        }
      ]
    },
    {
      "cell_type": "code",
      "metadata": {
        "id": "r7xIQsCEuRVO"
      },
      "source": [
        "# Close this file\n",
        "h5f.close()"
      ],
      "execution_count": null,
      "outputs": []
    },
    {
      "cell_type": "code",
      "metadata": {
        "id": "aTeAO8HpsqV8"
      },
      "source": [
        "## Importing the required basic libaries for data processing\n",
        "import numpy as np\n",
        "from keras.utils import np_utils\n",
        "\n",
        "# fix random seed for reproducibility\n",
        "seed = 7\n",
        "np.random.seed(seed)"
      ],
      "execution_count": null,
      "outputs": []
    },
    {
      "cell_type": "code",
      "metadata": {
        "id": "Bvsc8ytHsqWD",
        "colab": {
          "base_uri": "https://localhost:8080/",
          "height": 95
        },
        "outputId": "f5384d6a-24a1-4c4b-f6bd-bf75f166d890"
      },
      "source": [
        "# visualizing the first 10 images in the dataset and their labels\n",
        "%matplotlib inline\n",
        "import matplotlib.pyplot as plt\n",
        "plt.figure(figsize=(10, 1))\n",
        "for i in range(10):\n",
        "    plt.subplot(1, 10, i+1)\n",
        "    plt.imshow(X_train[i], cmap=\"gray\")\n",
        "    plt.axis('off')\n",
        "plt.show()\n",
        "print('label for each of the above image: %s' % (y_train1[0:10]))"
      ],
      "execution_count": null,
      "outputs": [
        {
          "output_type": "display_data",
          "data": {
            "image/png": "[encoded data removed]",
            "text/plain": [
              "<Figure size 720x72 with 10 Axes>"
            ]
          },
          "metadata": {
            "tags": [],
            "needs_background": "light"
          }
        },
        {
          "output_type": "stream",
          "text": [
            "label for each of the above image: [2 6 7 4 4 0 3 0 7 3]\n"
          ],
          "name": "stdout"
        }
      ]
    },
    {
      "cell_type": "code",
      "metadata": {
        "id": "D9YPwf9ysqWU",
        "colab": {
          "base_uri": "https://localhost:8080/"
        },
        "outputId": "c9ae9628-b62c-4cca-da85-57ae3739215a"
      },
      "source": [
        "X_train = X_train.reshape(X_train.shape[0], 1024)\n",
        "X_test = X_test.reshape(X_test.shape[0], 1024)\n",
        "\n",
        "# # normalize inputs from 0-255 to 0-1\n",
        "X_train = X_train / 255.0\n",
        "X_test = X_test / 255.0\n",
        "\n",
        "print('Training set', X_train.shape, y_train1.shape)\n",
        "print('Test set', X_test.shape, y_test1.shape)"
      ],
      "execution_count": null,
      "outputs": [
        {
          "output_type": "stream",
          "text": [
            "Training set (42000, 1024) (42000,)\n",
            "Test set (18000, 1024) (18000,)\n"
          ],
          "name": "stdout"
        }
      ]
    },
    {
      "cell_type": "code",
      "metadata": {
        "id": "H4kHHMqCsqWf",
        "colab": {
          "base_uri": "https://localhost:8080/"
        },
        "outputId": "932e83ec-46c0-41c4-a8a4-0145498f259e"
      },
      "source": [
        "print(X_test.shape)\n",
        "print(y_test1.shape)"
      ],
      "execution_count": null,
      "outputs": [
        {
          "output_type": "stream",
          "text": [
            "(18000, 1024)\n",
            "(18000,)\n"
          ],
          "name": "stdout"
        }
      ]
    },
    {
      "cell_type": "code",
      "metadata": {
        "id": "zL0lYER4sqWw"
      },
      "source": [
        "# one hot encode outputs\n",
        "y_train = np_utils.to_categorical(y_train1)\n",
        "y_test = np_utils.to_categorical(y_test1)\n",
        "\n",
        "# no.of classes\n",
        "num_classes = y_test.shape[1]\n",
        "num_hidden = 32"
      ],
      "execution_count": null,
      "outputs": []
    },
    {
      "cell_type": "code",
      "metadata": {
        "id": "EnOsi1o0sqW1",
        "colab": {
          "base_uri": "https://localhost:8080/"
        },
        "outputId": "0af182e4-34f0-4677-d026-399c84a9016f"
      },
      "source": [
        "num_classes"
      ],
      "execution_count": null,
      "outputs": [
        {
          "output_type": "execute_result",
          "data": {
            "text/plain": [
              "10"
            ]
          },
          "metadata": {
            "tags": []
          },
          "execution_count": 20
        }
      ]
    },
    {
      "cell_type": "code",
      "metadata": {
        "id": "ars5ie87jCgL"
      },
      "source": [
        "x_tr = []\n",
        "for i in range(42000):\n",
        "    x_tr.append(X_train[i,:].flatten())  # This step is alternative to the reshape function used earlier. This is redundant shown only for information\n",
        "x_te = []\n",
        "for i in range(18000):\n",
        "    x_te.append(X_test[i,:].flatten())   # Same comment as above"
      ],
      "execution_count": null,
      "outputs": []
    },
    {
      "cell_type": "code",
      "metadata": {
        "id": "mzTBd-KIlTDu"
      },
      "source": [
        "x_tr =x_tr[:2000]     # Reducing the file size to 2000 records to make training faster in the classroom sessions\n",
        "x_te =x_te[:2000]     # Instead we should use train_test split function to ensure we do not introduce any bias in categories"
      ],
      "execution_count": null,
      "outputs": []
    },
    {
      "cell_type": "code",
      "metadata": {
        "id": "zkl53rqKlva2"
      },
      "source": [
        "y_tr = y_train1[0:2000]\n",
        "y_te = y_test1[0:2000]"
      ],
      "execution_count": null,
      "outputs": []
    },
    {
      "cell_type": "code",
      "metadata": {
        "id": "Hu7wmUi6mAZl",
        "colab": {
          "base_uri": "https://localhost:8080/"
        },
        "outputId": "c87a9087-5e85-4bc2-f982-be1dcbbf03fe"
      },
      "source": [
        "print(len(x_tr))\n",
        "print(len(y_tr))\n",
        "print(len(x_te))\n",
        "print(len(y_tr))"
      ],
      "execution_count": null,
      "outputs": [
        {
          "output_type": "stream",
          "text": [
            "2000\n",
            "2000\n",
            "2000\n",
            "2000\n"
          ],
          "name": "stdout"
        }
      ]
    },
    {
      "cell_type": "code",
      "metadata": {
        "id": "ZTdelFs_QzdC"
      },
      "source": [
        "a =[]\n",
        "j = []\n",
        "def knnvalue(k):\n",
        "    from sklearn.neighbors import KNeighborsClassifier\n",
        "    NNH = KNeighborsClassifier(n_neighbors= k , weights = 'uniform', metric='euclidean')\n",
        "    NNH.fit(x_tr, y_tr)\n",
        "    predicted_labels = NNH.predict(x_te)\n",
        "    from sklearn.metrics import accuracy_score\n",
        "    ascore = accuracy_score(y_te, predicted_labels)\n",
        "    MSE = 1-ascore\n",
        "    a.append(MSE)\n",
        "    j.append(k)\n",
        "    print(ascore)"
      ],
      "execution_count": null,
      "outputs": []
    },
    {
      "cell_type": "code",
      "metadata": {
        "id": "BD8u5JwPUFYY"
      },
      "source": [
        ""
      ],
      "execution_count": null,
      "outputs": []
    },
    {
      "cell_type": "code",
      "metadata": {
        "id": "CaCIu2wuZs7O",
        "colab": {
          "base_uri": "https://localhost:8080/"
        },
        "outputId": "a29199b6-523c-4cee-8be3-064a8c008721"
      },
      "source": [
        "for i in range(1,30,2):\n",
        "    knnvalue(i)"
      ],
      "execution_count": null,
      "outputs": [
        {
          "output_type": "stream",
          "text": [
            "0.2975\n",
            "0.292\n",
            "0.3015\n",
            "0.307\n",
            "0.3055\n",
            "0.311\n",
            "0.2975\n",
            "0.294\n",
            "0.2975\n",
            "0.2935\n",
            "0.2945\n",
            "0.2955\n",
            "0.2865\n",
            "0.2805\n",
            "0.279\n"
          ],
          "name": "stdout"
        }
      ]
    },
    {
      "cell_type": "code",
      "metadata": {
        "id": "1gO3X5Pka2U4"
      },
      "source": [
        "#From the above run, the max accuracy is attained at k value of 1. Now lets train the model for k value of \n",
        "#30 and print the metrics\n",
        "from sklearn.neighbors import KNeighborsClassifier\n",
        "NNH = KNeighborsClassifier(n_neighbors= 6 , weights = 'uniform', metric='euclidean')\n",
        "NNH.fit(x_tr, y_tr)\n",
        "pred=NNH.predict(x_te)"
      ],
      "execution_count": null,
      "outputs": []
    },
    {
      "cell_type": "code",
      "metadata": {
        "id": "0vgUqavlvUvm",
        "colab": {
          "base_uri": "https://localhost:8080/"
        },
        "outputId": "fcdca912-7300-4146-890b-127633e92f16"
      },
      "source": [
        "pred[0]"
      ],
      "execution_count": null,
      "outputs": [
        {
          "output_type": "execute_result",
          "data": {
            "text/plain": [
              "6"
            ]
          },
          "metadata": {
            "tags": []
          },
          "execution_count": 57
        }
      ]
    },
    {
      "cell_type": "code",
      "metadata": {
        "id": "3H35P7QvwVtY",
        "colab": {
          "base_uri": "https://localhost:8080/"
        },
        "outputId": "44a6d5fb-f6ea-4c3c-d1a2-b053ab0eecaf"
      },
      "source": [
        "y_test1[0]"
      ],
      "execution_count": null,
      "outputs": [
        {
          "output_type": "execute_result",
          "data": {
            "text/plain": [
              "1"
            ]
          },
          "metadata": {
            "tags": []
          },
          "execution_count": 58
        }
      ]
    },
    {
      "cell_type": "code",
      "metadata": {
        "id": "5XX-L6jnzV9-",
        "colab": {
          "base_uri": "https://localhost:8080/"
        },
        "outputId": "6749fe6b-c3a0-41fe-f881-260e816d3edf"
      },
      "source": [
        "from sklearn.metrics import confusion_matrix\n",
        "confusion_matrix(pred,y_te)"
      ],
      "execution_count": null,
      "outputs": [
        {
          "output_type": "execute_result",
          "data": {
            "text/plain": [
              "array([[104,  17,  22,  28,  29,  36,  40,  14,  51,  43],\n",
              "       [ 11, 101,  25,  31,  23,  26,  22,  27,  19,  15],\n",
              "       [ 12,  18,  71,  22,  20,  18,  16,  49,  17,  24],\n",
              "       [ 15,   9,  18,  33,  11,  20,  12,  19,  20,  15],\n",
              "       [ 15,  14,   8,  13,  84,  15,  20,   9,  10,   9],\n",
              "       [ 10,   6,   8,  22,   6,  46,  11,   3,  11,  13],\n",
              "       [ 26,  12,   6,   9,  11,  16,  53,   5,  30,  19],\n",
              "       [  4,   5,  16,   9,   4,   6,   3,  72,   6,  10],\n",
              "       [  6,   2,   4,   9,   4,  10,  13,   2,  22,  16],\n",
              "       [ 18,   1,   9,   9,  12,  18,  12,   5,  12,  38]])"
            ]
          },
          "metadata": {
            "tags": []
          },
          "execution_count": 59
        }
      ]
    },
    {
      "cell_type": "code",
      "metadata": {
        "id": "68Mb3eRmp5K5",
        "colab": {
          "base_uri": "https://localhost:8080/"
        },
        "outputId": "b7f2b359-b9f8-4039-d253-fb03981ab089"
      },
      "source": [
        "from sklearn.metrics import classification_report\n",
        "\n",
        "cr= classification_report(y_te,pred)\n",
        "print(cr)"
      ],
      "execution_count": null,
      "outputs": [
        {
          "output_type": "stream",
          "text": [
            "              precision    recall  f1-score   support\n",
            "\n",
            "           0       0.27      0.47      0.34       221\n",
            "           1       0.34      0.55      0.42       185\n",
            "           2       0.27      0.38      0.31       187\n",
            "           3       0.19      0.18      0.18       185\n",
            "           4       0.43      0.41      0.42       204\n",
            "           5       0.34      0.22      0.27       211\n",
            "           6       0.28      0.26      0.27       202\n",
            "           7       0.53      0.35      0.42       205\n",
            "           8       0.25      0.11      0.15       198\n",
            "           9       0.28      0.19      0.23       202\n",
            "\n",
            "    accuracy                           0.31      2000\n",
            "   macro avg       0.32      0.31      0.30      2000\n",
            "weighted avg       0.32      0.31      0.30      2000\n",
            "\n"
          ],
          "name": "stdout"
        }
      ]
    },
    {
      "cell_type": "markdown",
      "metadata": {
        "id": "RGWJ1trlxHm9"
      },
      "source": [
        "The accuracy of the KNN model is very poor. "
      ]
    },
    {
      "cell_type": "markdown",
      "metadata": {
        "id": "UJDUoaEj1d6e"
      },
      "source": [
        "## Neural Network Model"
      ]
    },
    {
      "cell_type": "code",
      "metadata": {
        "id": "MmKU7JeWz23r"
      },
      "source": [
        "# Import the required libraries\n",
        "import tensorflow as tf\n",
        "from tensorflow.keras import Sequential\n",
        "from tensorflow.keras.layers import Dense, Dropout\n",
        "from tensorflow.keras.optimizers import RMSprop, Adam, SGD, Adagrad, Adadelta\n",
        "from tensorflow.keras.callbacks import EarlyStopping\n",
        "from tensorflow.keras.layers import BatchNormalization\n",
        "from tensorflow.keras.activations import relu"
      ],
      "execution_count": null,
      "outputs": []
    },
    {
      "cell_type": "code",
      "metadata": {
        "id": "Cmi81Gr5sqW-"
      },
      "source": [
        "# define model\n",
        "\n",
        "\n",
        "\n",
        "\n",
        "def nn_model():\n",
        "    # create model\n",
        "    num_classes = 10\n",
        "    model = Sequential()\n",
        "    model.add(Dense(1024, input_shape=(1024,)))   #First hidden layer of 1024  neurons, each neuron takes input \n",
        "    #model.add(tf.keras.layers.LeakyReLU(alpha=0.3))\n",
        "    model.add(tf.keras.layers.PReLU(alpha_initializer='glorot_normal'))\n",
        "                                                \n",
        "    model.add(Dense(512 ))\n",
        "\n",
        "\n",
        "\n",
        "\n",
        "                                                               \n",
        "\n",
        "\n",
        "    model.add(Dense(num_classes, activation='softmax'))        # Adding a softmax layer for output which contains as many \n",
        "                                                               # neurons as the number of classes (10) which is also the \n",
        "                                                               # the shape of each output vector ( one hot coded)\n",
        "\n",
        "                                                               # output layer also uses softmax. This normalizes the values \n",
        "                                                               # from the ten output nodes such that: \n",
        "                                                               #        all the values are between 0 and 1, and\n",
        "                                                               #        the sum of all ten values is 1.  \n",
        "                                                               # prediction is the lable of the node that gets highest fraction, is \n",
        "\n",
        "    # Optimizers \n",
        "    adam = Adam(lr=0.0001)\n",
        "    rms = RMSprop(lr=0.001)\n",
        "    sgd = SGD(lr = 0.001)\n",
        "    agr = Adagrad(lr=0.05, initial_accumulator_value=0.1, epsilon=1e-07 )\n",
        "    adl = Adadelta(lr=0.0001)\n",
        "\n",
        "\n",
        "\n",
        "    # Compile model\n",
        "    model.compile(loss='categorical_crossentropy', optimizer= adam , metrics=['accuracy']) ### Loss function = Categorical cross entropy\n",
        "    return model\n",
        "\n"
      ],
      "execution_count": null,
      "outputs": []
    },
    {
      "cell_type": "code",
      "metadata": {
        "colab": {
          "base_uri": "https://localhost:8080/"
        },
        "id": "ACAMcTtOVEp0",
        "outputId": "29a0caf4-37f4-4289-cc57-88574eeab45c"
      },
      "source": [
        "# build the model\n",
        "model = nn_model()\n",
        "\n",
        "\n",
        "model.summary()"
      ],
      "execution_count": null,
      "outputs": [
        {
          "output_type": "stream",
          "text": [
            "Model: \"sequential_8\"\n",
            "_________________________________________________________________\n",
            "Layer (type)                 Output Shape              Param #   \n",
            "=================================================================\n",
            "dense_23 (Dense)             (None, 1024)              1049600   \n",
            "_________________________________________________________________\n",
            "p_re_lu_5 (PReLU)            (None, 1024)              1024      \n",
            "_________________________________________________________________\n",
            "dense_24 (Dense)             (None, 512)               524800    \n",
            "_________________________________________________________________\n",
            "dense_25 (Dense)             (None, 10)                5130      \n",
            "=================================================================\n",
            "Total params: 1,580,554\n",
            "Trainable params: 1,580,554\n",
            "Non-trainable params: 0\n",
            "_________________________________________________________________\n"
          ],
          "name": "stdout"
        }
      ]
    },
    {
      "cell_type": "code",
      "metadata": {
        "id": "9GTYshX2s4Ih",
        "colab": {
          "base_uri": "https://localhost:8080/"
        },
        "outputId": "30e116a1-81b3-43f0-a619-c069a4ad132b"
      },
      "source": [
        "\n",
        "\n",
        "\n",
        "#es = EarlyStopping(monitor='val_loss', mode='min', verbose=1 )\n",
        "\n",
        "# Fit the model\n",
        "#history = model.fit(X_train, y_train, validation_data=(X_test, y_test), epochs=30, batch_size=256, verbose=2 , callbacks = es)\n",
        "\n",
        "history = model.fit(X_train, y_train, validation_data=(X_test, y_test), epochs=30, batch_size=256, verbose=2 )\n",
        "\n",
        "# Final evaluation of the model\n",
        "scores = model.evaluate(X_test, y_test, verbose=0)\n",
        "\n",
        "print(\"Error: %.2f%%\" % (100-scores[1]*100))\n",
        "\n",
        "model.summary()"
      ],
      "execution_count": null,
      "outputs": [
        {
          "output_type": "stream",
          "text": [
            "Epoch 1/30\n",
            "165/165 - 1s - loss: 2.2064 - accuracy: 0.2270 - val_loss: 2.0085 - val_accuracy: 0.3233\n",
            "Epoch 2/30\n",
            "165/165 - 1s - loss: 1.7640 - accuracy: 0.4776 - val_loss: 1.5480 - val_accuracy: 0.5601\n",
            "Epoch 3/30\n",
            "165/165 - 1s - loss: 1.4113 - accuracy: 0.5910 - val_loss: 1.2971 - val_accuracy: 0.6207\n",
            "Epoch 4/30\n",
            "165/165 - 1s - loss: 1.2209 - accuracy: 0.6486 - val_loss: 1.1904 - val_accuracy: 0.6442\n",
            "Epoch 5/30\n",
            "165/165 - 1s - loss: 1.1074 - accuracy: 0.6820 - val_loss: 1.1114 - val_accuracy: 0.6647\n",
            "Epoch 6/30\n",
            "165/165 - 1s - loss: 1.0292 - accuracy: 0.7003 - val_loss: 1.0055 - val_accuracy: 0.7024\n",
            "Epoch 7/30\n",
            "165/165 - 1s - loss: 0.9677 - accuracy: 0.7159 - val_loss: 0.9713 - val_accuracy: 0.7085\n",
            "Epoch 8/30\n",
            "165/165 - 1s - loss: 0.9141 - accuracy: 0.7324 - val_loss: 0.9612 - val_accuracy: 0.7030\n",
            "Epoch 9/30\n",
            "165/165 - 1s - loss: 0.8776 - accuracy: 0.7438 - val_loss: 0.8993 - val_accuracy: 0.7285\n",
            "Epoch 10/30\n",
            "165/165 - 1s - loss: 0.8384 - accuracy: 0.7542 - val_loss: 0.9163 - val_accuracy: 0.7208\n",
            "Epoch 11/30\n",
            "165/165 - 1s - loss: 0.8106 - accuracy: 0.7612 - val_loss: 0.8666 - val_accuracy: 0.7436\n",
            "Epoch 12/30\n",
            "165/165 - 1s - loss: 0.7817 - accuracy: 0.7716 - val_loss: 0.8233 - val_accuracy: 0.7617\n",
            "Epoch 13/30\n",
            "165/165 - 1s - loss: 0.7480 - accuracy: 0.7805 - val_loss: 0.8642 - val_accuracy: 0.7416\n",
            "Epoch 14/30\n",
            "165/165 - 1s - loss: 0.7280 - accuracy: 0.7865 - val_loss: 0.8149 - val_accuracy: 0.7652\n",
            "Epoch 15/30\n",
            "165/165 - 1s - loss: 0.7112 - accuracy: 0.7922 - val_loss: 0.7645 - val_accuracy: 0.7767\n",
            "Epoch 16/30\n",
            "165/165 - 1s - loss: 0.6877 - accuracy: 0.7992 - val_loss: 0.7384 - val_accuracy: 0.7886\n",
            "Epoch 17/30\n",
            "165/165 - 1s - loss: 0.6683 - accuracy: 0.8043 - val_loss: 0.7907 - val_accuracy: 0.7705\n",
            "Epoch 18/30\n",
            "165/165 - 1s - loss: 0.6581 - accuracy: 0.8084 - val_loss: 0.7333 - val_accuracy: 0.7893\n",
            "Epoch 19/30\n",
            "165/165 - 1s - loss: 0.6351 - accuracy: 0.8140 - val_loss: 0.7501 - val_accuracy: 0.7808\n",
            "Epoch 20/30\n",
            "165/165 - 1s - loss: 0.6173 - accuracy: 0.8187 - val_loss: 0.7328 - val_accuracy: 0.7888\n",
            "Epoch 21/30\n",
            "165/165 - 1s - loss: 0.6129 - accuracy: 0.8206 - val_loss: 0.7223 - val_accuracy: 0.7887\n",
            "Epoch 22/30\n",
            "165/165 - 1s - loss: 0.6076 - accuracy: 0.8214 - val_loss: 0.6982 - val_accuracy: 0.8002\n",
            "Epoch 23/30\n",
            "165/165 - 1s - loss: 0.5909 - accuracy: 0.8267 - val_loss: 0.7042 - val_accuracy: 0.7953\n",
            "Epoch 24/30\n",
            "165/165 - 1s - loss: 0.5742 - accuracy: 0.8320 - val_loss: 0.7025 - val_accuracy: 0.7977\n",
            "Epoch 25/30\n",
            "165/165 - 1s - loss: 0.5651 - accuracy: 0.8337 - val_loss: 0.6647 - val_accuracy: 0.8111\n",
            "Epoch 26/30\n",
            "165/165 - 1s - loss: 0.5541 - accuracy: 0.8372 - val_loss: 0.6692 - val_accuracy: 0.8114\n",
            "Epoch 27/30\n",
            "165/165 - 1s - loss: 0.5517 - accuracy: 0.8376 - val_loss: 0.6874 - val_accuracy: 0.8021\n",
            "Epoch 28/30\n",
            "165/165 - 1s - loss: 0.5326 - accuracy: 0.8449 - val_loss: 0.6790 - val_accuracy: 0.8073\n",
            "Epoch 29/30\n",
            "165/165 - 1s - loss: 0.5257 - accuracy: 0.8455 - val_loss: 0.7505 - val_accuracy: 0.7882\n",
            "Epoch 30/30\n",
            "165/165 - 1s - loss: 0.5204 - accuracy: 0.8468 - val_loss: 0.6636 - val_accuracy: 0.8091\n",
            "Error: 19.09%\n",
            "Model: \"sequential_8\"\n",
            "_________________________________________________________________\n",
            "Layer (type)                 Output Shape              Param #   \n",
            "=================================================================\n",
            "dense_23 (Dense)             (None, 1024)              1049600   \n",
            "_________________________________________________________________\n",
            "p_re_lu_5 (PReLU)            (None, 1024)              1024      \n",
            "_________________________________________________________________\n",
            "dense_24 (Dense)             (None, 512)               524800    \n",
            "_________________________________________________________________\n",
            "dense_25 (Dense)             (None, 10)                5130      \n",
            "=================================================================\n",
            "Total params: 1,580,554\n",
            "Trainable params: 1,580,554\n",
            "Non-trainable params: 0\n",
            "_________________________________________________________________\n"
          ],
          "name": "stdout"
        }
      ]
    },
    {
      "cell_type": "code",
      "metadata": {
        "id": "mtF-j7_jtEqC",
        "colab": {
          "base_uri": "https://localhost:8080/"
        },
        "outputId": "7270643e-0617-45e6-daf6-8a21e3f4a2c4"
      },
      "source": [
        "for l in model.layers:\n",
        "  print (l.name, l.input_shape,'==>',l.output_shape)\n",
        "  print()\n",
        "\n",
        "model.summary()"
      ],
      "execution_count": null,
      "outputs": [
        {
          "output_type": "stream",
          "text": [
            "dense_3 (None, 1024) ==> (None, 1024)\n",
            "\n",
            "dense_4 (None, 1024) ==> (None, 10)\n",
            "\n",
            "Model: \"sequential_1\"\n",
            "_________________________________________________________________\n",
            "Layer (type)                 Output Shape              Param #   \n",
            "=================================================================\n",
            "dense_3 (Dense)              (None, 1024)              1049600   \n",
            "_________________________________________________________________\n",
            "dense_4 (Dense)              (None, 10)                10250     \n",
            "=================================================================\n",
            "Total params: 1,059,850\n",
            "Trainable params: 1,059,850\n",
            "Non-trainable params: 0\n",
            "_________________________________________________________________\n"
          ],
          "name": "stdout"
        }
      ]
    },
    {
      "cell_type": "code",
      "metadata": {
        "id": "sxGyCNREEMP-",
        "colab": {
          "base_uri": "https://localhost:8080/",
          "height": 295
        },
        "outputId": "9f119c06-6a2f-4465-da4e-6381a4e39ba3"
      },
      "source": [
        "plt.plot(history.history['accuracy'])\n",
        "plt.plot(history.history['val_accuracy'])\n",
        "plt.plot(history.history['loss'])\n",
        "plt.title('model accuracy')\n",
        "plt.ylabel('accuracy / loss')\n",
        "plt.xlabel('epoch')\n",
        "plt.legend(['training', 'validation'], loc='best')\n",
        "plt.show()"
      ],
      "execution_count": null,
      "outputs": [
        {
          "output_type": "display_data",
          "data": {
            "image/png": "[encoded data removed]",
            "text/plain": [
              "<Figure size 432x288 with 1 Axes>"
            ]
          },
          "metadata": {
            "tags": [],
            "needs_background": "light"
          }
        }
      ]
    },
    {
      "cell_type": "markdown",
      "metadata": {
        "id": "BV8dco0T07eU"
      },
      "source": [
        "# <u>Note</u>\n",
        "### Make sure the training and validation scores do not deviate significantly. If it does, you are most likely in overfit zone\n",
        "\n",
        "### Early stopping can adversly effect the model (stops improvising early)\n",
        "### However, not earlystopping shows the validation accuracy curve fluctuating\n",
        "### indicating variance error challenges\n",
        "\n",
        "### Pl. note... these observations are in the context of the set hyper parameter values\n"
      ]
    }
  ]
}