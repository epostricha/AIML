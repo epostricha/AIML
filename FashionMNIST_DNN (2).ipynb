{
  "nbformat": 4,
  "nbformat_minor": 0,
  "metadata": {
    "accelerator": "GPU",
    "colab": {
      "name": "FashionMNIST_DNN.ipynb",
      "provenance": [],
      "collapsed_sections": []
    },
    "kernelspec": {
      "display_name": "Python 3",
      "language": "python",
      "name": "python3"
    },
    "language_info": {
      "codemirror_mode": {
        "name": "ipython",
        "version": 3
      },
      "file_extension": ".py",
      "mimetype": "text/x-python",
      "name": "python",
      "nbconvert_exporter": "python",
      "pygments_lexer": "ipython3",
      "version": "3.8.3"
    }
  },
  "cells": [
    {
      "cell_type": "code",
      "metadata": {
        "id": "9LmtD9kcNRjE"
      },
      "source": [
        "#!pip install tensorflow==2.0"
      ],
      "execution_count": null,
      "outputs": []
    },
    {
      "cell_type": "code",
      "metadata": {
        "id": "p5--3ZTDNO7K"
      },
      "source": [
        "\n",
        "%matplotlib inline\n",
        "import matplotlib.pyplot as plt\n",
        "import pandas as pd\n",
        "\n",
        "\n",
        "\n",
        "import tensorflow as tf\n",
        "from tensorflow.keras.datasets import fashion_mnist\n",
        "from tensorflow.keras import Sequential\n",
        "from tensorflow.keras.layers import Dense, Dropout\n",
        "from tensorflow.keras.optimizers import RMSprop\n",
        "from tensorflow.keras.callbacks import EarlyStopping\n",
        "from tensorflow.keras.layers import BatchNormalization\n",
        "from tensorflow.keras.constraints import MaxNorm\n",
        "from tensorflow.keras.activations import relu\n",
        "from tensorflow.keras.layers import LeakyReLU\n",
        "\n",
        "from sklearn import metrics\n"
      ],
      "execution_count": null,
      "outputs": []
    },
    {
      "cell_type": "code",
      "metadata": {
        "id": "Tqdg3t0xNO7Q",
        "colab": {
          "base_uri": "https://localhost:8080/"
        },
        "outputId": "603367a9-cd79-4288-e441-cdbc10cfadaf"
      },
      "source": [
        "# load data\n",
        "(X_train, y_train), (X_test, y_test) = fashion_mnist.load_data()\n",
        "\n",
        "y_test_o = y_test"
      ],
      "execution_count": null,
      "outputs": [
        {
          "output_type": "stream",
          "text": [
            "Downloading data from https://storage.googleapis.com/tensorflow/tf-keras-datasets/train-labels-idx1-ubyte.gz\n",
            "32768/29515 [=================================] - 0s 0us/step\n",
            "Downloading data from https://storage.googleapis.com/tensorflow/tf-keras-datasets/train-images-idx3-ubyte.gz\n",
            "26427392/26421880 [==============================] - 0s 0us/step\n",
            "Downloading data from https://storage.googleapis.com/tensorflow/tf-keras-datasets/t10k-labels-idx1-ubyte.gz\n",
            "8192/5148 [===============================================] - 0s 0us/step\n",
            "Downloading data from https://storage.googleapis.com/tensorflow/tf-keras-datasets/t10k-images-idx3-ubyte.gz\n",
            "4423680/4422102 [==============================] - 0s 0us/step\n"
          ],
          "name": "stdout"
        }
      ]
    },
    {
      "cell_type": "code",
      "metadata": {
        "colab": {
          "base_uri": "https://localhost:8080/",
          "height": 282
        },
        "id": "9-LM5HWrIYeA",
        "outputId": "693860c3-a26a-4c01-e069-c1e8a5f96332"
      },
      "source": [
        "plt.imshow(X_train[1])\n"
      ],
      "execution_count": null,
      "outputs": [
        {
          "output_type": "execute_result",
          "data": {
            "text/plain": [
              "<matplotlib.image.AxesImage at 0x7f8d8aafd898>"
            ]
          },
          "metadata": {
            "tags": []
          },
          "execution_count": 3
        },
        {
          "output_type": "display_data",
          "data": {
            "image/png": "[encoded data removed]",
            "text/plain": [
              "<Figure size 432x288 with 1 Axes>"
            ]
          },
          "metadata": {
            "tags": [],
            "needs_background": "light"
          }
        }
      ]
    },
    {
      "cell_type": "code",
      "metadata": {
        "id": "VhXt2ozdIFlP"
      },
      "source": [
        "# normalize inputs from 0-255 to 0.0-1.0\n",
        "X_train = X_train.astype('float32')\n",
        "X_test = X_test.astype('float32')\n",
        "X_train = X_train / 255.0\n",
        "X_test = X_test / 255.0\n",
        "\n",
        "\n",
        "\n",
        "# one hot encode outputs\n",
        "y_train = tf.keras.utils.to_categorical(y_train)\n",
        "y_test = tf.keras.utils.to_categorical(y_test)\n",
        "num_classes = y_test.shape[1]"
      ],
      "execution_count": null,
      "outputs": []
    },
    {
      "cell_type": "code",
      "metadata": {
        "colab": {
          "base_uri": "https://localhost:8080/"
        },
        "id": "xQ5lw7P1eukZ",
        "outputId": "44f6b64e-9fea-4c22-b797-c1eacce10cd7"
      },
      "source": [
        "\n",
        "# Create the model\n",
        "model = Sequential()\n",
        "\n",
        "\n",
        "model.add(tf.keras.layers.Flatten(input_shape=(28, 28)))    #flattens the 28X28 image into 784 element array\n",
        "\n",
        "model.add(Dense(784, activation='relu', input_shape=(784,)))\n",
        "model.add(Dense(256, activation='relu'))\n",
        "#model.add(Dropout(0.5))\n",
        "model.add(Dense(num_classes, activation='softmax'))\n",
        "\n",
        "       \n",
        "        \n",
        "\n",
        "for l in model.layers:\n",
        "    print (l.name, l.input_shape,'==>',l.output_shape)\n",
        "print()\n",
        "print (model.summary())\n",
        "\n",
        "\n",
        "\n"
      ],
      "execution_count": null,
      "outputs": [
        {
          "output_type": "stream",
          "text": [
            "flatten (None, 28, 28) ==> (None, 784)\n",
            "dense (None, 784) ==> (None, 784)\n",
            "dense_1 (None, 784) ==> (None, 256)\n",
            "dense_2 (None, 256) ==> (None, 10)\n",
            "\n",
            "Model: \"sequential\"\n",
            "_________________________________________________________________\n",
            "Layer (type)                 Output Shape              Param #   \n",
            "=================================================================\n",
            "flatten (Flatten)            (None, 784)               0         \n",
            "_________________________________________________________________\n",
            "dense (Dense)                (None, 784)               615440    \n",
            "_________________________________________________________________\n",
            "dense_1 (Dense)              (None, 256)               200960    \n",
            "_________________________________________________________________\n",
            "dense_2 (Dense)              (None, 10)                2570      \n",
            "=================================================================\n",
            "Total params: 818,970\n",
            "Trainable params: 818,970\n",
            "Non-trainable params: 0\n",
            "_________________________________________________________________\n",
            "None\n"
          ],
          "name": "stdout"
        }
      ]
    },
    {
      "cell_type": "code",
      "metadata": {
        "id": "HPUTUQ_XNO7Y"
      },
      "source": [
        "# Compile model\n",
        "epochs = 20\n",
        "#lrate = 0.001\n",
        "#decay = lrate/epochs\n",
        "          \n",
        "\n",
        "\n",
        "model.compile(loss='categorical_crossentropy',  optimizer='sgd' ,  metrics=['accuracy'] , )\n",
        "\n",
        "#sgd = SGD(lr=lrate, momentum=0.9, decay=decay, nesterov=False)\n",
        "# , optimizer='adam'\n",
        "\n"
      ],
      "execution_count": null,
      "outputs": []
    },
    {
      "cell_type": "code",
      "metadata": {
        "colab": {
          "base_uri": "https://localhost:8080/"
        },
        "id": "d4AfHBEpvg5-",
        "outputId": "e0671aa1-6672-4791-db3a-1504c923b29a"
      },
      "source": [
        "# Fit the model\n",
        "\n",
        "#early_stopping = EarlyStopping(monitor='val_acc', patience=2, verbose=1, mode='auto')\n",
        "#callback_list = [early_stopping]# [stats, early_stopping]\n",
        "\n",
        "model.fit(X_train, y_train, validation_data=(X_test, y_test), epochs=epochs, batch_size=500 )\n",
        "\n",
        "# , callbacks=callback_list\n",
        "\n",
        "# Final evaluation of the model\n",
        "scores = model.evaluate(X_test, y_test, verbose=0)\n",
        "print(\"Accuracy: %.2f%%\" % (scores[1]*100))"
      ],
      "execution_count": null,
      "outputs": [
        {
          "output_type": "stream",
          "text": [
            "Epoch 1/20\n",
            "120/120 [==============================] - 1s 5ms/step - loss: 1.4768 - accuracy: 0.5816 - val_loss: 1.0497 - val_accuracy: 0.6764\n",
            "Epoch 2/20\n",
            "120/120 [==============================] - 0s 4ms/step - loss: 0.9058 - accuracy: 0.7130 - val_loss: 0.8264 - val_accuracy: 0.7212\n",
            "Epoch 3/20\n",
            "120/120 [==============================] - 0s 4ms/step - loss: 0.7601 - accuracy: 0.7549 - val_loss: 0.7338 - val_accuracy: 0.7551\n",
            "Epoch 4/20\n",
            "120/120 [==============================] - 0s 4ms/step - loss: 0.6861 - accuracy: 0.7783 - val_loss: 0.6769 - val_accuracy: 0.7754\n",
            "Epoch 5/20\n",
            "120/120 [==============================] - 0s 4ms/step - loss: 0.6377 - accuracy: 0.7952 - val_loss: 0.6373 - val_accuracy: 0.7911\n",
            "Epoch 6/20\n",
            "120/120 [==============================] - 0s 4ms/step - loss: 0.6028 - accuracy: 0.8062 - val_loss: 0.6099 - val_accuracy: 0.7992\n",
            "Epoch 7/20\n",
            "120/120 [==============================] - 0s 4ms/step - loss: 0.5762 - accuracy: 0.8124 - val_loss: 0.5869 - val_accuracy: 0.8040\n",
            "Epoch 8/20\n",
            "120/120 [==============================] - 0s 4ms/step - loss: 0.5551 - accuracy: 0.8186 - val_loss: 0.5688 - val_accuracy: 0.8081\n",
            "Epoch 9/20\n",
            "120/120 [==============================] - 0s 4ms/step - loss: 0.5382 - accuracy: 0.8231 - val_loss: 0.5544 - val_accuracy: 0.8136\n",
            "Epoch 10/20\n",
            "120/120 [==============================] - 0s 4ms/step - loss: 0.5245 - accuracy: 0.8263 - val_loss: 0.5464 - val_accuracy: 0.8156\n",
            "Epoch 11/20\n",
            "120/120 [==============================] - 0s 4ms/step - loss: 0.5120 - accuracy: 0.8295 - val_loss: 0.5322 - val_accuracy: 0.8199\n",
            "Epoch 12/20\n",
            "120/120 [==============================] - 0s 4ms/step - loss: 0.5026 - accuracy: 0.8313 - val_loss: 0.5246 - val_accuracy: 0.8214\n",
            "Epoch 13/20\n",
            "120/120 [==============================] - 0s 4ms/step - loss: 0.4934 - accuracy: 0.8334 - val_loss: 0.5158 - val_accuracy: 0.8229\n",
            "Epoch 14/20\n",
            "120/120 [==============================] - 0s 4ms/step - loss: 0.4854 - accuracy: 0.8362 - val_loss: 0.5089 - val_accuracy: 0.8252\n",
            "Epoch 15/20\n",
            "120/120 [==============================] - 0s 4ms/step - loss: 0.4782 - accuracy: 0.8375 - val_loss: 0.5039 - val_accuracy: 0.8269\n",
            "Epoch 16/20\n",
            "120/120 [==============================] - 0s 4ms/step - loss: 0.4721 - accuracy: 0.8396 - val_loss: 0.4986 - val_accuracy: 0.8284\n",
            "Epoch 17/20\n",
            "120/120 [==============================] - 0s 4ms/step - loss: 0.4656 - accuracy: 0.8417 - val_loss: 0.4970 - val_accuracy: 0.8265\n",
            "Epoch 18/20\n",
            "120/120 [==============================] - 0s 4ms/step - loss: 0.4612 - accuracy: 0.8425 - val_loss: 0.4879 - val_accuracy: 0.8317\n",
            "Epoch 19/20\n",
            "120/120 [==============================] - 0s 4ms/step - loss: 0.4556 - accuracy: 0.8437 - val_loss: 0.4845 - val_accuracy: 0.8319\n",
            "Epoch 20/20\n",
            "120/120 [==============================] - 0s 4ms/step - loss: 0.4511 - accuracy: 0.8451 - val_loss: 0.4792 - val_accuracy: 0.8342\n",
            "Accuracy: 83.42%\n"
          ],
          "name": "stdout"
        }
      ]
    },
    {
      "cell_type": "code",
      "metadata": {
        "id": "-8mRiB5leukx"
      },
      "source": [
        "y_predict = model.predict(X_test)"
      ],
      "execution_count": null,
      "outputs": []
    },
    {
      "cell_type": "code",
      "metadata": {
        "colab": {
          "base_uri": "https://localhost:8080/"
        },
        "id": "Y8UDA2ydRBf0",
        "outputId": "8f671faf-be14-41c2-be5f-d2ee8abeffd3"
      },
      "source": [
        "import numpy as np\n",
        "print(y_predict[0])\n",
        "np.argmax(y_predict[0])"
      ],
      "execution_count": null,
      "outputs": [
        {
          "output_type": "stream",
          "text": [
            "[0. 0. 0. 0. 0. 0. 0. 0. 0. 1.]\n"
          ],
          "name": "stdout"
        },
        {
          "output_type": "execute_result",
          "data": {
            "text/plain": [
              "9"
            ]
          },
          "metadata": {
            "tags": []
          },
          "execution_count": 26
        }
      ]
    },
    {
      "cell_type": "code",
      "metadata": {
        "id": "sMdooUpVeuk1",
        "colab": {
          "base_uri": "https://localhost:8080/"
        },
        "outputId": "e6ce8a1f-2f44-45b2-a28b-42156421a01c"
      },
      "source": [
        "from sklearn import metrics\n",
        "\n",
        "y_pred = []\n",
        "for val in y_predict:\n",
        "    y_pred.append(np.argmax(val))\n",
        "#print(y_pred)    \n",
        "#convert 0 1 to 1 and 1 0 as 0\n",
        "cm = metrics.confusion_matrix(y_test_o,y_pred)\n",
        "print(cm)"
      ],
      "execution_count": null,
      "outputs": [
        {
          "output_type": "stream",
          "text": [
            "[[820   6  15  50  14   0  75   0  19   1]\n",
            " [  4 952   8  23  11   0   0   0   2   0]\n",
            " [ 17   1 652  10 263   0  42   0  15   0]\n",
            " [ 27  20  14 829  75   0  29   0   6   0]\n",
            " [  0   2  54  18 895   0  24   0   7   0]\n",
            " [  1   0   0   1   0 760   0 111  23 104]\n",
            " [159   3 125  35 261   0 380   0  37   0]\n",
            " [  0   0   0   0   0   6   0 908   2  84]\n",
            " [  1   1  14   7   4   1  13   7 952   0]\n",
            " [  0   0   0   0   0   2   1  38   1 958]]\n"
          ],
          "name": "stdout"
        }
      ]
    }
  ]
}