{
  "nbformat": 4,
  "nbformat_minor": 0,
  "metadata": {
    "kernelspec": {
      "display_name": "Python 3",
      "language": "python",
      "name": "python3"
    },
    "language_info": {
      "codemirror_mode": {
        "name": "ipython",
        "version": 3
      },
      "file_extension": ".py",
      "mimetype": "text/x-python",
      "name": "python",
      "nbconvert_exporter": "python",
      "pygments_lexer": "ipython3",
      "version": "3.7.4"
    },
    "colab": {
      "name": "DL_HyperparameterTuning_3.ipynb",
      "provenance": []
    }
  },
  "cells": [
    {
      "cell_type": "markdown",
      "metadata": {
        "id": "HNRe6GoUfMBw"
      },
      "source": [
        "# Activation function evaluation"
      ]
    },
    {
      "cell_type": "code",
      "metadata": {
        "id": "BhIr4RImfMB1"
      },
      "source": [
        "%matplotlib inline\n",
        "\n",
        "import tensorflow as tf\n",
        "from tensorflow.keras.datasets import mnist\n",
        "from tensorflow.keras import Sequential\n",
        "from tensorflow.keras.layers import Dense, Dropout\n",
        "from tensorflow.keras.optimizers import RMSprop\n",
        "from tensorflow.keras.callbacks import EarlyStopping\n",
        "from tensorflow.keras.layers import BatchNormalization\n",
        "from tensorflow.keras.activations import relu\n",
        "import matplotlib.pyplot as plt"
      ],
      "execution_count": 5,
      "outputs": []
    },
    {
      "cell_type": "code",
      "metadata": {
        "id": "9VeUeSvBfMB8",
        "colab": {
          "base_uri": "https://localhost:8080/"
        },
        "outputId": "53fc4974-2761-4b01-a758-cb4fd28c491f"
      },
      "source": [
        "# https://en.wikipedia.org/wiki/MNIST_database  Introdcution to MNIST dataset\n",
        "\n",
        "\n",
        "(x_train, y_train), (x_test, y_test) = mnist.load_data()\n",
        "\n",
        "num_classes = 10\n",
        "x_train = x_train.reshape(60000, 784)    # 784 = 28 X 28 the size of each image. There are 60000 images for training\n",
        "x_test = x_test.reshape(10000, 784)      # Images are flattended out into a vector of 784 elements\n",
        "x_train = x_train.astype('float32')      # Change the data type to float from integer (0 - 255)\n",
        "x_test = x_test.astype('float32')\n",
        "x_train /= 255                           # Scale the data between 0 and 1\n",
        "x_test /= 255\n",
        "y_train = tf.keras.utils.to_categorical(y_train, num_classes)   # Converting the target into categorical which is stored as numeric\n",
        "y_test = tf.keras.utils.to_categorical(y_test, num_classes)     # Keras converst these into 1-hot coded vectors as these are lables\n",
        "\n",
        "\n",
        "print ('Train size:', x_train.shape[0])\n",
        "print ('Test size:', x_test.shape[0])"
      ],
      "execution_count": 6,
      "outputs": [
        {
          "output_type": "stream",
          "text": [
            "Train size: 60000\n",
            "Test size: 10000\n"
          ],
          "name": "stdout"
        }
      ]
    },
    {
      "cell_type": "code",
      "metadata": {
        "id": "lE3t0zbRZtfb",
        "colab": {
          "base_uri": "https://localhost:8080/",
          "height": 34
        },
        "outputId": "b9c821f9-27f1-4784-e4e1-961123c590c7"
      },
      "source": [
        "print(tf.__version__)"
      ],
      "execution_count": null,
      "outputs": [
        {
          "output_type": "stream",
          "text": [
            "2.0.0\n"
          ],
          "name": "stdout"
        }
      ]
    },
    {
      "cell_type": "code",
      "metadata": {
        "id": "3yOQUOU6fMCG",
        "colab": {
          "base_uri": "https://localhost:8080/"
        },
        "outputId": "891826fb-acdf-4821-a295-4ba88ff8f089"
      },
      "source": [
        "model = Sequential()\n",
        "model.add(Dense(784, activation='relu', input_shape=(784,)))   #First hidden layer of 784  neurons, each neuron takes input \n",
        "                                                               # vector of size 784\n",
        "\n",
        "\n",
        "\n",
        "model.add(Dense(num_classes, activation='softmax'))            # Adding a softmax layer for output which contains as many \n",
        "                                                               # neurons as the number of classes (10) which is also the \n",
        "                                                               # the shape of each output vector ( one hot coded)\n",
        "\n",
        "                                                               # output layer also uses softmax. This normalizes the values \n",
        "                                                               # from the ten output nodes such that: \n",
        "                                                               #        all the values are between 0 and 1, and\n",
        "                                                               #        the sum of all ten values is 1.  \n",
        "                                                               # prediction is the lable of the node that gets highest fraction, is \n",
        "        \n",
        "        \n",
        "\n",
        "for l in model.layers:\n",
        "    print (l.name, l.input_shape,'==>',l.output_shape)\n",
        "print()\n",
        "print (model.summary())\n",
        "\n"
      ],
      "execution_count": 7,
      "outputs": [
        {
          "output_type": "stream",
          "text": [
            "dense_2 (None, 784) ==> (None, 784)\n",
            "dense_3 (None, 784) ==> (None, 10)\n",
            "\n",
            "Model: \"sequential_1\"\n",
            "_________________________________________________________________\n",
            "Layer (type)                 Output Shape              Param #   \n",
            "=================================================================\n",
            "dense_2 (Dense)              (None, 784)               615440    \n",
            "_________________________________________________________________\n",
            "dense_3 (Dense)              (None, 10)                7850      \n",
            "=================================================================\n",
            "Total params: 623,290\n",
            "Trainable params: 623,290\n",
            "Non-trainable params: 0\n",
            "_________________________________________________________________\n",
            "None\n"
          ],
          "name": "stdout"
        }
      ]
    },
    {
      "cell_type": "code",
      "metadata": {
        "id": "Co4YNNxqfMCM",
        "colab": {
          "base_uri": "https://localhost:8080/",
          "height": 313
        },
        "outputId": "9e4bc011-94d0-4a7b-f293-28aab4ca0bdc"
      },
      "source": [
        "batch_size = 256\n",
        "epochs = 10\n",
        "\n",
        "model.compile(optimizer='adam', loss='categorical_crossentropy', metrics=['accuracy'])\n",
        "history = model.fit(x_train, y_train, batch_size=batch_size, epochs=epochs, validation_split=.1, verbose=False)\n",
        "loss,accuracy  = model.evaluate(x_test, y_test, verbose=False)\n",
        "print(\"model accuracy :\" , accuracy)\n",
        "#print(\"validation accuracy : \", val_accuracy)\n",
        "\n",
        "plt.plot(history.history['accuracy'])\n",
        "plt.plot(history.history['val_accuracy'])\n",
        "plt.plot(history.history['loss'])\n",
        "plt.title('model accuracy')\n",
        "plt.ylabel('accuracy / loss')\n",
        "plt.xlabel('epoch')\n",
        "plt.legend(['training', 'validation'], loc='best')\n",
        "plt.show()"
      ],
      "execution_count": 8,
      "outputs": [
        {
          "output_type": "stream",
          "text": [
            "model accuracy : 0.9811999797821045\n"
          ],
          "name": "stdout"
        },
        {
          "output_type": "display_data",
          "data": {
            "image/png": "[encoded data removed]",
            "text/plain": [
              "<Figure size 432x288 with 1 Axes>"
            ]
          },
          "metadata": {
            "tags": [],
            "needs_background": "light"
          }
        }
      ]
    },
    {
      "cell_type": "code",
      "metadata": {
        "id": "xAqv777xfMCT",
        "colab": {
          "base_uri": "https://localhost:8080/",
          "height": 337
        },
        "outputId": "70067a4a-49d9-4aee-a15d-a9b37c2cc37b"
      },
      "source": [
        "import pandas as pd\n",
        "\n",
        "print(history.history['val_accuracy'])\n",
        "\n",
        "print(history.history['accuracy'])\n",
        "\n",
        "ta = pd.DataFrame(history.history['accuracy'])\n",
        "va = pd.DataFrame(history.history['val_accuracy'])\n",
        "\n",
        "tva = pd.concat([ta,va] , axis=1)\n",
        "\n",
        "tva.boxplot()"
      ],
      "execution_count": 9,
      "outputs": [
        {
          "output_type": "stream",
          "text": [
            "[0.9653333425521851, 0.9728333353996277, 0.9745000004768372, 0.9776666760444641, 0.9778333306312561, 0.9793333411216736, 0.9796666502952576, 0.98416668176651, 0.984499990940094, 0.9826666712760925]\n",
            "[0.9098333120346069, 0.9621296525001526, 0.9762963056564331, 0.9822407364845276, 0.9871481657028198, 0.9902222156524658, 0.9929444193840027, 0.995462954044342, 0.9967963099479675, 0.9980555772781372]\n"
          ],
          "name": "stdout"
        },
        {
          "output_type": "execute_result",
          "data": {
            "text/plain": [
              "<matplotlib.axes._subplots.AxesSubplot at 0x7fc6d0c73390>"
            ]
          },
          "metadata": {
            "tags": []
          },
          "execution_count": 9
        },
        {
          "output_type": "display_data",
          "data": {
            "image/png": "[encoded data removed]",
            "text/plain": [
              "<Figure size 432x288 with 1 Axes>"
            ]
          },
          "metadata": {
            "tags": [],
            "needs_background": "light"
          }
        }
      ]
    },
    {
      "cell_type": "code",
      "metadata": {
        "id": "9jUixZtIfMCY"
      },
      "source": [
        "# With simple two layer NN, got an accuracy of 98%+ \n",
        "# But training and validation scores are in different ranges ... looks like overfitting case\n",
        "# The accuracy is reached quite early in the epochs within first 5\n",
        "\n"
      ],
      "execution_count": null,
      "outputs": []
    },
    {
      "cell_type": "markdown",
      "metadata": {
        "id": "-ivLZvEsfMCg"
      },
      "source": [
        "# Number of hidden layers"
      ]
    },
    {
      "cell_type": "code",
      "metadata": {
        "id": "TGvQcYbAfMCi"
      },
      "source": [
        "def create_dense(layer_sizes):\n",
        "    model = Sequential()\n",
        "    model.add(Dense(layer_sizes[0], activation='relu', input_shape=(784,)))\n",
        "\n",
        "    for s in layer_sizes[1:]:\n",
        "        model.add(Dense(units = s, activation = 'relu'))\n",
        "\n",
        "    model.add(Dense(units=num_classes, activation='softmax'))\n",
        "    return model\n",
        "\n",
        "def evaluate(model, batch_size=batch_size, epochs=epochs):\n",
        "    model.summary()\n",
        "    model.compile(optimizer='adam', loss='categorical_crossentropy', metrics=['accuracy'])\n",
        "    history = model.fit(x_train, y_train, batch_size=batch_size, epochs=epochs, validation_split=.1, verbose=False)\n",
        "    loss,accuracy  = model.evaluate(x_test, y_test, verbose=False)\n",
        "    \n",
        "    print(\"Model accuracy : \", accuracy)\n",
        " \n",
        "    \n",
        "    plt.plot(history.history['accuracy'])\n",
        "    plt.plot(history.history['val_accuracy'])\n",
        "    plt.plot(history.history['loss'])\n",
        "    plt.title('model accuracy')\n",
        "    plt.ylabel('accuracy / loss')\n",
        "    plt.xlabel('epoch')\n",
        "    plt.legend(['training', 'validation'], loc='best')\n",
        "    plt.show()\n",
        "\n",
        "    "
      ],
      "execution_count": null,
      "outputs": []
    },
    {
      "cell_type": "code",
      "metadata": {
        "id": "DR-WGoYAfMCo",
        "colab": {
          "base_uri": "https://localhost:8080/",
          "height": 1000
        },
        "outputId": "203f5dd0-4b27-4fe1-b4fe-bce5e1d319dc"
      },
      "source": [
        "for layers in range(2,4):\n",
        "    model = create_dense([784] * layers)\n",
        "    evaluate(model)"
      ],
      "execution_count": null,
      "outputs": [
        {
          "output_type": "stream",
          "text": [
            "Model: \"sequential_2\"\n",
            "_________________________________________________________________\n",
            "Layer (type)                 Output Shape              Param #   \n",
            "=================================================================\n",
            "dense_4 (Dense)              (None, 784)               615440    \n",
            "_________________________________________________________________\n",
            "dense_5 (Dense)              (None, 784)               615440    \n",
            "_________________________________________________________________\n",
            "dense_6 (Dense)              (None, 10)                7850      \n",
            "=================================================================\n",
            "Total params: 1,238,730\n",
            "Trainable params: 1,238,730\n",
            "Non-trainable params: 0\n",
            "_________________________________________________________________\n",
            "Model accuracy :  0.9816\n"
          ],
          "name": "stdout"
        },
        {
          "output_type": "display_data",
          "data": {
            "image/png": "[encoded data removed]",
            "text/plain": [
              "<Figure size 432x288 with 1 Axes>"
            ]
          },
          "metadata": {
            "tags": []
          }
        },
        {
          "output_type": "stream",
          "text": [
            "Model: \"sequential_3\"\n",
            "_________________________________________________________________\n",
            "Layer (type)                 Output Shape              Param #   \n",
            "=================================================================\n",
            "dense_7 (Dense)              (None, 784)               615440    \n",
            "_________________________________________________________________\n",
            "dense_8 (Dense)              (None, 784)               615440    \n",
            "_________________________________________________________________\n",
            "dense_9 (Dense)              (None, 784)               615440    \n",
            "_________________________________________________________________\n",
            "dense_10 (Dense)             (None, 10)                7850      \n",
            "=================================================================\n",
            "Total params: 1,854,170\n",
            "Trainable params: 1,854,170\n",
            "Non-trainable params: 0\n",
            "_________________________________________________________________\n",
            "Model accuracy :  0.9829\n"
          ],
          "name": "stdout"
        },
        {
          "output_type": "display_data",
          "data": {
            "image/png": "[encoded data removed]",
            "text/plain": [
              "<Figure size 432x288 with 1 Axes>"
            ]
          },
          "metadata": {
            "tags": []
          }
        }
      ]
    },
    {
      "cell_type": "code",
      "metadata": {
        "id": "B1OY7wQYfMCt",
        "colab": {
          "base_uri": "https://localhost:8080/",
          "height": 335
        },
        "outputId": "f9a71485-f50f-45e2-a382-47066b50ba66"
      },
      "source": [
        "print(history.history['val_accuracy'])\n",
        "\n",
        "print(history.history['accuracy'])\n",
        "\n",
        "ta = pd.DataFrame(history.history['accuracy'])\n",
        "va = pd.DataFrame(history.history['val_accuracy'])\n",
        "\n",
        "tva = pd.concat([ta,va] , axis=1)\n",
        "\n",
        "tva.boxplot()"
      ],
      "execution_count": null,
      "outputs": [
        {
          "output_type": "stream",
          "text": [
            "[0.9633333, 0.97566664, 0.97866666, 0.97966665, 0.9801667, 0.98183334, 0.98333335, 0.9805, 0.98366666, 0.9845, 0.9845, 0.9826667, 0.98433334, 0.98333335, 0.9835, 0.98433334, 0.98483336, 0.98583335, 0.9863333, 0.98516667]\n",
            "[0.90933335, 0.96261114, 0.97518516, 0.9820741, 0.9875741, 0.9911482, 0.9935741, 0.9955556, 0.99696296, 0.9977963, 0.9985926, 0.99885184, 0.9996667, 0.99953705, 0.99964815, 0.99987036, 1.0, 1.0, 1.0, 1.0]\n"
          ],
          "name": "stdout"
        },
        {
          "output_type": "execute_result",
          "data": {
            "text/plain": [
              "<matplotlib.axes._subplots.AxesSubplot at 0x7fb31b7c3e48>"
            ]
          },
          "metadata": {
            "tags": []
          },
          "execution_count": 13
        },
        {
          "output_type": "display_data",
          "data": {
            "image/png": "[encoded data removed]",
            "text/plain": [
              "<Figure size 432x288 with 1 Axes>"
            ]
          },
          "metadata": {
            "tags": []
          }
        }
      ]
    },
    {
      "cell_type": "markdown",
      "metadata": {
        "id": "WgGJTgNZfMC5"
      },
      "source": [
        "## Observations about number of layers\n",
        "\n",
        "1. With one hidden layer of 784 neurons and one ouput layer of 10 the validation score is 98% rounded\n",
        "2. Increasing the hidden layer by one with same number of neurons shows the model is becoming wavy and overfit. Training accuracy is close to 1 while validation accuracy remains at 98% rounded\n",
        "3. Increasing the hidden layer by one more makes the situation even worse\n",
        "4. Returns are not enough to justify the number of parameters to learn\n",
        "5. Freeze number of hiddden layers to 1\n",
        "\n",
        "\n"
      ]
    },
    {
      "cell_type": "markdown",
      "metadata": {
        "id": "1ZBbTpj8fMC7"
      },
      "source": [
        "# Reduce number of neurons to 256 with only one hidden layer "
      ]
    },
    {
      "cell_type": "code",
      "metadata": {
        "id": "muM-VHVwfMC9",
        "colab": {
          "base_uri": "https://localhost:8080/",
          "height": 286
        },
        "outputId": "6d6b2649-ccc9-43ad-b515-703b2df3f2dd"
      },
      "source": [
        "model = Sequential()\n",
        "model.add(Dense(128, activation='relu', input_shape=(784,)))   \n",
        "model.add(Dense(num_classes, activation='softmax'))             \n",
        " \n",
        "for l in model.layers:\n",
        "    print (l.name, l.input_shape,'==>',l.output_shape)\n",
        "print()\n",
        "print (model.summary())\n"
      ],
      "execution_count": null,
      "outputs": [
        {
          "output_type": "stream",
          "text": [
            "dense_11 (None, 784) ==> (None, 128)\n",
            "dense_12 (None, 128) ==> (None, 10)\n",
            "\n",
            "Model: \"sequential_4\"\n",
            "_________________________________________________________________\n",
            "Layer (type)                 Output Shape              Param #   \n",
            "=================================================================\n",
            "dense_11 (Dense)             (None, 128)               100480    \n",
            "_________________________________________________________________\n",
            "dense_12 (Dense)             (None, 10)                1290      \n",
            "=================================================================\n",
            "Total params: 101,770\n",
            "Trainable params: 101,770\n",
            "Non-trainable params: 0\n",
            "_________________________________________________________________\n",
            "None\n"
          ],
          "name": "stdout"
        }
      ]
    },
    {
      "cell_type": "code",
      "metadata": {
        "id": "qeDi_snQfMDD",
        "colab": {
          "base_uri": "https://localhost:8080/",
          "height": 312
        },
        "outputId": "580e7065-8e21-4a41-86c3-66d89bb29334"
      },
      "source": [
        "batch_size = 256\n",
        "epochs = 20\n",
        "\n",
        "model.compile(optimizer='adam', loss='categorical_crossentropy', metrics=['accuracy'])\n",
        "history = model.fit(x_train, y_train, batch_size=batch_size, epochs=epochs, validation_split=.1, verbose=False)\n",
        "loss,accuracy  = model.evaluate(x_test, y_test, verbose=False)\n",
        "print(\"model accuracy :\" , accuracy)\n",
        "#print(\"validation accuracy : \", val_accuracy)\n",
        "\n",
        "plt.plot(history.history['accuracy'])\n",
        "plt.plot(history.history['val_accuracy'])\n",
        "plt.plot(history.history['loss'])\n",
        "plt.title('model accuracy')\n",
        "plt.ylabel('accuracy / loss')\n",
        "plt.xlabel('epoch')\n",
        "plt.legend(['training', 'validation'], loc='best')\n",
        "plt.show()"
      ],
      "execution_count": null,
      "outputs": [
        {
          "output_type": "stream",
          "text": [
            "model accuracy : 0.9785\n"
          ],
          "name": "stdout"
        },
        {
          "output_type": "display_data",
          "data": {
            "image/png": "[encoded data removed]",
            "text/plain": [
              "<Figure size 432x288 with 1 Axes>"
            ]
          },
          "metadata": {
            "tags": []
          }
        }
      ]
    },
    {
      "cell_type": "code",
      "metadata": {
        "id": "HPHxBCk1fMDJ",
        "colab": {
          "base_uri": "https://localhost:8080/",
          "height": 337
        },
        "outputId": "52dddf84-6237-4be6-b34c-c1a22cf1901f"
      },
      "source": [
        "print(history.history['val_accuracy'])\n",
        "\n",
        "print(history.history['accuracy'])\n",
        "\n",
        "ta = pd.DataFrame(history.history['accuracy'])\n",
        "va = pd.DataFrame(history.history['val_accuracy'])\n",
        "\n",
        "tva = pd.concat([ta,va] , axis=1)\n",
        "\n",
        "tva.boxplot()"
      ],
      "execution_count": null,
      "outputs": [
        {
          "output_type": "stream",
          "text": [
            "[0.9446667, 0.957, 0.966, 0.9698333, 0.97333336, 0.97316664, 0.9735, 0.976, 0.97716665, 0.977, 0.97616667, 0.97816664, 0.9775, 0.9791667, 0.9773333, 0.97783333, 0.9775, 0.97783333, 0.979, 0.97816664]\n",
            "[0.8742037, 0.9377222, 0.9532222, 0.9624444, 0.9687222, 0.9737963, 0.97746295, 0.9805, 0.9828704, 0.98553705, 0.9874815, 0.9891111, 0.99072224, 0.99192595, 0.9934259, 0.99424076, 0.995037, 0.99535185, 0.9963704, 0.9971667]\n"
          ],
          "name": "stdout"
        },
        {
          "output_type": "execute_result",
          "data": {
            "text/plain": [
              "<matplotlib.axes._subplots.AxesSubplot at 0x7f62db0d22b0>"
            ]
          },
          "metadata": {
            "tags": []
          },
          "execution_count": 20
        },
        {
          "output_type": "display_data",
          "data": {
            "image/png": "[encoded data removed]",
            "text/plain": [
              "<Figure size 432x288 with 1 Axes>"
            ]
          },
          "metadata": {
            "tags": []
          }
        }
      ]
    },
    {
      "cell_type": "markdown",
      "metadata": {
        "id": "_YFbRYfAfMDO"
      },
      "source": [
        "## With 256 neurons and one hidden layer\n",
        "\n",
        "1. we are getting similar results in validation as with 784 neurons. \n",
        "2. The degree of overfit (between training and validation) is also reduced as is evident from training box plot\n",
        "\n",
        "3. With 128 neruons the validation accuracy drops to 97% rounded and the degree of overfit reduces further\n",
        "4. Futher reduction of neurons degrades the peformance both in training and validation\n"
      ]
    },
    {
      "cell_type": "markdown",
      "metadata": {
        "id": "X5M4cF-XfMDP"
      },
      "source": [
        "## Impact of batch size"
      ]
    },
    {
      "cell_type": "code",
      "metadata": {
        "id": "cLsNF-4efMDR",
        "colab": {
          "base_uri": "https://localhost:8080/",
          "height": 295
        },
        "outputId": "8d4e15d1-402c-4ced-a75f-9e59680fd671"
      },
      "source": [
        "model = Sequential()\n",
        "model.add(Dense(256, activation='relu', input_shape=(784,)))   \n",
        "model.add(Dense(num_classes, activation='softmax'))              \n",
        "        \n",
        "        \n",
        "\n",
        "for l in model.layers:\n",
        "    print (l.name, l.input_shape,'==>',l.output_shape)\n",
        "print()\n",
        "print (model.summary())\n"
      ],
      "execution_count": null,
      "outputs": [
        {
          "output_type": "stream",
          "text": [
            "dense_21 (None, 784) ==> (None, 256)\n",
            "dense_22 (None, 256) ==> (None, 10)\n",
            "\n",
            "Model: \"sequential_10\"\n",
            "_________________________________________________________________\n",
            "Layer (type)                 Output Shape              Param #   \n",
            "=================================================================\n",
            "dense_21 (Dense)             (None, 256)               200960    \n",
            "_________________________________________________________________\n",
            "dense_22 (Dense)             (None, 10)                2570      \n",
            "=================================================================\n",
            "Total params: 203,530\n",
            "Trainable params: 203,530\n",
            "Non-trainable params: 0\n",
            "_________________________________________________________________\n",
            "None\n"
          ],
          "name": "stdout"
        }
      ]
    },
    {
      "cell_type": "code",
      "metadata": {
        "id": "8jzcYiynfMDW",
        "colab": {
          "base_uri": "https://localhost:8080/",
          "height": 1000
        },
        "outputId": "9ff80e7f-8f06-4b85-fe08-52e49378c026"
      },
      "source": [
        "batch_size = 30000   \n",
        "epochs = 20\n",
        "model.compile(loss='categorical_crossentropy',\n",
        "              optimizer='adam',\n",
        "              metrics=['accuracy'])\n",
        "\n",
        "#es = EarlyStopping(monitor='val_loss', mode='min', verbose=1 )\n",
        "    \n",
        "history = model.fit(x_train, y_train,\n",
        "                    batch_size=batch_size,\n",
        "                    epochs=epochs,\n",
        "                    verbose=1,\n",
        "                    validation_data=(x_test, y_test))\n",
        "#                    validation_data=(x_test, y_test), callbacks = [es])\n",
        "\n",
        "score = model.evaluate(x_test, y_test, verbose=False)\n",
        "\n",
        "print()\n",
        "print ('Test loss:', round(score[0], 3))\n",
        "print ('Test accuracy:', round(score[1], 3))\n",
        "\n",
        "\n",
        "plt.plot(history.history['loss'])\n",
        "plt.plot(history.history['val_loss'])\n",
        "plt.title('model loss')\n",
        "plt.ylabel('loss')\n",
        "plt.xlabel('epoch')\n",
        "plt.legend(['train', 'test'], loc='upper left')"
      ],
      "execution_count": null,
      "outputs": [
        {
          "output_type": "stream",
          "text": [
            "Train on 60000 samples, validate on 10000 samples\n",
            "Epoch 1/20\n",
            "60000/60000 [==============================] - 2s 31us/sample - loss: 2.2777 - accuracy: 0.1655 - val_loss: 1.9582 - val_accuracy: 0.4813\n",
            "Epoch 2/20\n",
            "60000/60000 [==============================] - 1s 21us/sample - loss: 1.8757 - accuracy: 0.5354 - val_loss: 1.6150 - val_accuracy: 0.6728\n",
            "Epoch 3/20\n",
            "60000/60000 [==============================] - 1s 22us/sample - loss: 1.5532 - accuracy: 0.6795 - val_loss: 1.3273 - val_accuracy: 0.7383\n",
            "Epoch 4/20\n",
            "60000/60000 [==============================] - 1s 22us/sample - loss: 1.2832 - accuracy: 0.7430 - val_loss: 1.0910 - val_accuracy: 0.7899\n",
            "Epoch 5/20\n",
            "60000/60000 [==============================] - 1s 21us/sample - loss: 1.0644 - accuracy: 0.7866 - val_loss: 0.9074 - val_accuracy: 0.8217\n",
            "Epoch 6/20\n",
            "60000/60000 [==============================] - 1s 22us/sample - loss: 0.8957 - accuracy: 0.8135 - val_loss: 0.7684 - val_accuracy: 0.8370\n",
            "Epoch 7/20\n",
            "60000/60000 [==============================] - 1s 22us/sample - loss: 0.7669 - accuracy: 0.8274 - val_loss: 0.6644 - val_accuracy: 0.8468\n",
            "Epoch 8/20\n",
            "60000/60000 [==============================] - 1s 21us/sample - loss: 0.6702 - accuracy: 0.8368 - val_loss: 0.5877 - val_accuracy: 0.8551\n",
            "Epoch 9/20\n",
            "60000/60000 [==============================] - 1s 21us/sample - loss: 0.5973 - accuracy: 0.8462 - val_loss: 0.5302 - val_accuracy: 0.8644\n",
            "Epoch 10/20\n",
            "60000/60000 [==============================] - 1s 21us/sample - loss: 0.5417 - accuracy: 0.8566 - val_loss: 0.4866 - val_accuracy: 0.8744\n",
            "Epoch 11/20\n",
            "60000/60000 [==============================] - 1s 21us/sample - loss: 0.4992 - accuracy: 0.8657 - val_loss: 0.4532 - val_accuracy: 0.8802\n",
            "Epoch 12/20\n",
            "60000/60000 [==============================] - 1s 21us/sample - loss: 0.4660 - accuracy: 0.8726 - val_loss: 0.4268 - val_accuracy: 0.8853\n",
            "Epoch 13/20\n",
            "60000/60000 [==============================] - 1s 21us/sample - loss: 0.4392 - accuracy: 0.8774 - val_loss: 0.4056 - val_accuracy: 0.8891\n",
            "Epoch 14/20\n",
            "60000/60000 [==============================] - 1s 21us/sample - loss: 0.4173 - accuracy: 0.8824 - val_loss: 0.3881 - val_accuracy: 0.8927\n",
            "Epoch 15/20\n",
            "60000/60000 [==============================] - 1s 21us/sample - loss: 0.3991 - accuracy: 0.8864 - val_loss: 0.3730 - val_accuracy: 0.8963\n",
            "Epoch 16/20\n",
            "60000/60000 [==============================] - 1s 22us/sample - loss: 0.3834 - accuracy: 0.8905 - val_loss: 0.3599 - val_accuracy: 0.9001\n",
            "Epoch 17/20\n",
            "60000/60000 [==============================] - 1s 22us/sample - loss: 0.3697 - accuracy: 0.8943 - val_loss: 0.3483 - val_accuracy: 0.9025\n",
            "Epoch 18/20\n",
            "60000/60000 [==============================] - 1s 21us/sample - loss: 0.3576 - accuracy: 0.8975 - val_loss: 0.3381 - val_accuracy: 0.9050\n",
            "Epoch 19/20\n",
            "60000/60000 [==============================] - 1s 21us/sample - loss: 0.3468 - accuracy: 0.9004 - val_loss: 0.3290 - val_accuracy: 0.9071\n",
            "Epoch 20/20\n",
            "60000/60000 [==============================] - 1s 21us/sample - loss: 0.3371 - accuracy: 0.9034 - val_loss: 0.3205 - val_accuracy: 0.9099\n",
            "\n",
            "Test loss: 0.32\n",
            "Test accuracy: 0.91\n"
          ],
          "name": "stdout"
        },
        {
          "output_type": "execute_result",
          "data": {
            "text/plain": [
              "<matplotlib.legend.Legend at 0x7f62dec40d68>"
            ]
          },
          "metadata": {
            "tags": []
          },
          "execution_count": 30
        },
        {
          "output_type": "display_data",
          "data": {
            "image/png": "[encoded data removed]",
            "text/plain": [
              "<Figure size 432x288 with 1 Axes>"
            ]
          },
          "metadata": {
            "tags": []
          }
        }
      ]
    },
    {
      "cell_type": "code",
      "metadata": {
        "id": "qV0kH3rpfMDc",
        "colab": {
          "base_uri": "https://localhost:8080/",
          "height": 313
        },
        "outputId": "e60096e5-8607-4955-dd2b-5eac75eac604"
      },
      "source": [
        "plt.plot(history.history['accuracy'])\n",
        "plt.plot(history.history['val_accuracy'])\n",
        "plt.title('model Accuracy')\n",
        "plt.ylabel('Accuracy')\n",
        "plt.xlabel('epoch')\n",
        "plt.legend(['train', 'test'], loc='upper left')\n"
      ],
      "execution_count": null,
      "outputs": [
        {
          "output_type": "execute_result",
          "data": {
            "text/plain": [
              "<matplotlib.legend.Legend at 0x7f62da7119b0>"
            ]
          },
          "metadata": {
            "tags": []
          },
          "execution_count": 27
        },
        {
          "output_type": "display_data",
          "data": {
            "image/png": "[encoded data removed]",
            "text/plain": [
              "<Figure size 432x288 with 1 Axes>"
            ]
          },
          "metadata": {
            "tags": []
          }
        }
      ]
    },
    {
      "cell_type": "code",
      "metadata": {
        "id": "Umm5zlRifMDi",
        "colab": {
          "base_uri": "https://localhost:8080/",
          "height": 337
        },
        "outputId": "8e69bb90-acce-48a6-a994-248070591a58"
      },
      "source": [
        "print(history.history['val_accuracy'])\n",
        "\n",
        "print(history.history['accuracy'])\n",
        "\n",
        "ta = pd.DataFrame(history.history['accuracy'])\n",
        "va = pd.DataFrame(history.history['val_accuracy'])\n",
        "\n",
        "tva = pd.concat([ta,va] , axis=1)\n",
        "\n",
        "tva.boxplot()"
      ],
      "execution_count": null,
      "outputs": [
        {
          "output_type": "stream",
          "text": [
            "[0.3317, 0.5226, 0.6408, 0.71, 0.7503, 0.7801, 0.7996, 0.8123, 0.824, 0.8318, 0.8405, 0.8461, 0.8516, 0.8545, 0.8586, 0.8625, 0.8681, 0.8711, 0.875, 0.8774]\n",
            "[0.12078334, 0.3221, 0.5108, 0.63161665, 0.6971167, 0.73866665, 0.76788336, 0.78915, 0.8038333, 0.81295, 0.8203, 0.82713336, 0.83315, 0.8390167, 0.84415, 0.84985, 0.85565, 0.86085, 0.8656167, 0.86975]\n"
          ],
          "name": "stdout"
        },
        {
          "output_type": "execute_result",
          "data": {
            "text/plain": [
              "<matplotlib.axes._subplots.AxesSubplot at 0x7f62dcc8c7f0>"
            ]
          },
          "metadata": {
            "tags": []
          },
          "execution_count": 28
        },
        {
          "output_type": "display_data",
          "data": {
            "image/png": "[encoded data removed]",
            "text/plain": [
              "<Figure size 432x288 with 1 Axes>"
            ]
          },
          "metadata": {
            "tags": []
          }
        }
      ]
    },
    {
      "cell_type": "markdown",
      "metadata": {
        "id": "daZZQ4vBfMDm"
      },
      "source": [
        "## Observations on batch size\n",
        "\n",
        "1. With smaller batch size the model becomes unstable in validation (as is evident from the accuracy chart)\n",
        "2. Within the given 5 epochs the model becomes overfit (as is evident from the boxplot)\n",
        "3. The validation accuracy reduces "
      ]
    },
    {
      "cell_type": "markdown",
      "metadata": {
        "id": "Z1fTipAvfMDo"
      },
      "source": [
        "# Increase the Epochs"
      ]
    },
    {
      "cell_type": "code",
      "metadata": {
        "id": "wZ_UN-pIfMDo",
        "colab": {
          "base_uri": "https://localhost:8080/",
          "height": 295
        },
        "outputId": "f72549d3-328a-4825-d546-1af93354853d"
      },
      "source": [
        "from tensorflow.keras.callbacks import EarlyStopping\n",
        "\n",
        "model = Sequential()\n",
        "model.add(Dense(256, activation='relu', input_shape=(784,)))   \n",
        "model.add(Dense(num_classes, activation='softmax'))              \n",
        "        \n",
        "        \n",
        "\n",
        "for l in model.layers:\n",
        "    print (l.name, l.input_shape,'==>',l.output_shape)\n",
        "print()\n",
        "print (model.summary())\n"
      ],
      "execution_count": null,
      "outputs": [
        {
          "output_type": "stream",
          "text": [
            "dense_25 (None, 784) ==> (None, 256)\n",
            "dense_26 (None, 256) ==> (None, 10)\n",
            "\n",
            "Model: \"sequential_12\"\n",
            "_________________________________________________________________\n",
            "Layer (type)                 Output Shape              Param #   \n",
            "=================================================================\n",
            "dense_25 (Dense)             (None, 256)               200960    \n",
            "_________________________________________________________________\n",
            "dense_26 (Dense)             (None, 10)                2570      \n",
            "=================================================================\n",
            "Total params: 203,530\n",
            "Trainable params: 203,530\n",
            "Non-trainable params: 0\n",
            "_________________________________________________________________\n",
            "None\n"
          ],
          "name": "stdout"
        }
      ]
    },
    {
      "cell_type": "code",
      "metadata": {
        "id": "JnvpoNGzfMDr",
        "colab": {
          "base_uri": "https://localhost:8080/",
          "height": 1000
        },
        "outputId": "8d7b472d-fcbe-4c02-8db0-61a10ed0f989"
      },
      "source": [
        "batch_size = 60000    \n",
        "epochs = 100\n",
        "model.compile(loss='categorical_crossentropy',\n",
        "              optimizer='adam',\n",
        "              metrics=['accuracy'])\n",
        "\n",
        "es = EarlyStopping(monitor='val_loss', mode='min', verbose=1 )\n",
        "    \n",
        "history = model.fit(x_train, y_train,\n",
        "                    batch_size=batch_size,\n",
        "                    epochs=epochs,\n",
        "                    verbose=1,\n",
        "#                    validation_data=(x_test, y_test))\n",
        "                    validation_data=(x_test, y_test), callbacks = [es])\n",
        "\n",
        "score = model.evaluate(x_test, y_test, verbose=False)\n",
        "\n",
        "print()\n",
        "print ('Test loss:', round(score[0], 3))\n",
        "print ('Test accuracy:', round(score[1], 3))\n",
        "\n",
        "\n"
      ],
      "execution_count": null,
      "outputs": [
        {
          "output_type": "stream",
          "text": [
            "Train on 60000 samples, validate on 10000 samples\n",
            "Epoch 1/100\n",
            "60000/60000 [==============================] - 2s 29us/sample - loss: 2.4631 - accuracy: 0.1064 - val_loss: 2.2289 - val_accuracy: 0.2469\n",
            "Epoch 2/100\n",
            "60000/60000 [==============================] - 1s 22us/sample - loss: 2.2263 - accuracy: 0.2466 - val_loss: 2.0256 - val_accuracy: 0.4029\n",
            "Epoch 3/100\n",
            "60000/60000 [==============================] - 1s 21us/sample - loss: 2.0264 - accuracy: 0.4019 - val_loss: 1.8453 - val_accuracy: 0.5414\n",
            "Epoch 4/100\n",
            "60000/60000 [==============================] - 1s 20us/sample - loss: 1.8490 - accuracy: 0.5414 - val_loss: 1.6795 - val_accuracy: 0.6412\n",
            "Epoch 5/100\n",
            "60000/60000 [==============================] - 1s 21us/sample - loss: 1.6862 - accuracy: 0.6441 - val_loss: 1.5253 - val_accuracy: 0.6970\n",
            "Epoch 6/100\n",
            "60000/60000 [==============================] - 1s 20us/sample - loss: 1.5346 - accuracy: 0.6988 - val_loss: 1.3826 - val_accuracy: 0.7380\n",
            "Epoch 7/100\n",
            "60000/60000 [==============================] - 1s 20us/sample - loss: 1.3944 - accuracy: 0.7312 - val_loss: 1.2532 - val_accuracy: 0.7617\n",
            "Epoch 8/100\n",
            "60000/60000 [==============================] - 1s 21us/sample - loss: 1.2670 - accuracy: 0.7524 - val_loss: 1.1379 - val_accuracy: 0.7781\n",
            "Epoch 9/100\n",
            "60000/60000 [==============================] - 1s 21us/sample - loss: 1.1534 - accuracy: 0.7689 - val_loss: 1.0364 - val_accuracy: 0.7928\n",
            "Epoch 10/100\n",
            "60000/60000 [==============================] - 1s 20us/sample - loss: 1.0533 - accuracy: 0.7820 - val_loss: 0.9473 - val_accuracy: 0.8051\n",
            "Epoch 11/100\n",
            "60000/60000 [==============================] - 1s 21us/sample - loss: 0.9652 - accuracy: 0.7941 - val_loss: 0.8692 - val_accuracy: 0.8165\n",
            "Epoch 12/100\n",
            "60000/60000 [==============================] - 1s 21us/sample - loss: 0.8880 - accuracy: 0.8050 - val_loss: 0.8013 - val_accuracy: 0.8272\n",
            "Epoch 13/100\n",
            "60000/60000 [==============================] - 1s 21us/sample - loss: 0.8209 - accuracy: 0.8147 - val_loss: 0.7427 - val_accuracy: 0.8351\n",
            "Epoch 14/100\n",
            "60000/60000 [==============================] - 1s 21us/sample - loss: 0.7629 - accuracy: 0.8238 - val_loss: 0.6926 - val_accuracy: 0.8422\n",
            "Epoch 15/100\n",
            "60000/60000 [==============================] - 1s 21us/sample - loss: 0.7130 - accuracy: 0.8311 - val_loss: 0.6496 - val_accuracy: 0.8468\n",
            "Epoch 16/100\n",
            "60000/60000 [==============================] - 1s 21us/sample - loss: 0.6700 - accuracy: 0.8375 - val_loss: 0.6123 - val_accuracy: 0.8525\n",
            "Epoch 17/100\n",
            "60000/60000 [==============================] - 1s 21us/sample - loss: 0.6324 - accuracy: 0.8424 - val_loss: 0.5797 - val_accuracy: 0.8576\n",
            "Epoch 18/100\n",
            "60000/60000 [==============================] - 1s 21us/sample - loss: 0.5993 - accuracy: 0.8474 - val_loss: 0.5509 - val_accuracy: 0.8634\n",
            "Epoch 19/100\n",
            "60000/60000 [==============================] - 1s 21us/sample - loss: 0.5700 - accuracy: 0.8526 - val_loss: 0.5257 - val_accuracy: 0.8670\n",
            "Epoch 20/100\n",
            "60000/60000 [==============================] - 1s 21us/sample - loss: 0.5441 - accuracy: 0.8582 - val_loss: 0.5036 - val_accuracy: 0.8712\n",
            "Epoch 21/100\n",
            "60000/60000 [==============================] - 1s 20us/sample - loss: 0.5212 - accuracy: 0.8629 - val_loss: 0.4843 - val_accuracy: 0.8754\n",
            "Epoch 22/100\n",
            "60000/60000 [==============================] - 1s 20us/sample - loss: 0.5010 - accuracy: 0.8676 - val_loss: 0.4674 - val_accuracy: 0.8789\n",
            "Epoch 23/100\n",
            "60000/60000 [==============================] - 1s 21us/sample - loss: 0.4832 - accuracy: 0.8723 - val_loss: 0.4525 - val_accuracy: 0.8823\n",
            "Epoch 24/100\n",
            "60000/60000 [==============================] - 1s 21us/sample - loss: 0.4673 - accuracy: 0.8760 - val_loss: 0.4392 - val_accuracy: 0.8846\n",
            "Epoch 25/100\n",
            "60000/60000 [==============================] - 1s 21us/sample - loss: 0.4531 - accuracy: 0.8789 - val_loss: 0.4271 - val_accuracy: 0.8881\n",
            "Epoch 26/100\n",
            "60000/60000 [==============================] - 1s 21us/sample - loss: 0.4402 - accuracy: 0.8817 - val_loss: 0.4162 - val_accuracy: 0.8906\n",
            "Epoch 27/100\n",
            "60000/60000 [==============================] - 1s 21us/sample - loss: 0.4285 - accuracy: 0.8846 - val_loss: 0.4061 - val_accuracy: 0.8933\n",
            "Epoch 28/100\n",
            "60000/60000 [==============================] - 1s 21us/sample - loss: 0.4178 - accuracy: 0.8872 - val_loss: 0.3969 - val_accuracy: 0.8957\n",
            "Epoch 29/100\n",
            "60000/60000 [==============================] - 1s 21us/sample - loss: 0.4080 - accuracy: 0.8894 - val_loss: 0.3883 - val_accuracy: 0.8984\n",
            "Epoch 30/100\n",
            "60000/60000 [==============================] - 1s 20us/sample - loss: 0.3990 - accuracy: 0.8914 - val_loss: 0.3804 - val_accuracy: 0.8999\n",
            "Epoch 31/100\n",
            "60000/60000 [==============================] - 1s 20us/sample - loss: 0.3908 - accuracy: 0.8934 - val_loss: 0.3730 - val_accuracy: 0.9013\n",
            "Epoch 32/100\n",
            "60000/60000 [==============================] - 1s 21us/sample - loss: 0.3832 - accuracy: 0.8956 - val_loss: 0.3661 - val_accuracy: 0.9025\n",
            "Epoch 33/100\n",
            "60000/60000 [==============================] - 1s 21us/sample - loss: 0.3761 - accuracy: 0.8971 - val_loss: 0.3596 - val_accuracy: 0.9034\n",
            "Epoch 34/100\n",
            "60000/60000 [==============================] - 1s 21us/sample - loss: 0.3694 - accuracy: 0.8982 - val_loss: 0.3536 - val_accuracy: 0.9053\n",
            "Epoch 35/100\n",
            "60000/60000 [==============================] - 1s 22us/sample - loss: 0.3632 - accuracy: 0.8995 - val_loss: 0.3480 - val_accuracy: 0.9077\n",
            "Epoch 36/100\n",
            "60000/60000 [==============================] - 1s 21us/sample - loss: 0.3573 - accuracy: 0.9009 - val_loss: 0.3428 - val_accuracy: 0.9089\n",
            "Epoch 37/100\n",
            "60000/60000 [==============================] - 1s 21us/sample - loss: 0.3517 - accuracy: 0.9025 - val_loss: 0.3379 - val_accuracy: 0.9098\n",
            "Epoch 38/100\n",
            "60000/60000 [==============================] - 1s 21us/sample - loss: 0.3465 - accuracy: 0.9040 - val_loss: 0.3333 - val_accuracy: 0.9109\n",
            "Epoch 39/100\n",
            "60000/60000 [==============================] - 1s 21us/sample - loss: 0.3415 - accuracy: 0.9052 - val_loss: 0.3289 - val_accuracy: 0.9120\n",
            "Epoch 40/100\n",
            "60000/60000 [==============================] - 1s 20us/sample - loss: 0.3368 - accuracy: 0.9068 - val_loss: 0.3246 - val_accuracy: 0.9124\n",
            "Epoch 41/100\n",
            "60000/60000 [==============================] - 1s 21us/sample - loss: 0.3324 - accuracy: 0.9078 - val_loss: 0.3205 - val_accuracy: 0.9129\n",
            "Epoch 42/100\n",
            "60000/60000 [==============================] - 1s 20us/sample - loss: 0.3281 - accuracy: 0.9089 - val_loss: 0.3166 - val_accuracy: 0.9141\n",
            "Epoch 43/100\n",
            "60000/60000 [==============================] - 1s 21us/sample - loss: 0.3240 - accuracy: 0.9099 - val_loss: 0.3128 - val_accuracy: 0.9155\n",
            "Epoch 44/100\n",
            "60000/60000 [==============================] - 1s 20us/sample - loss: 0.3201 - accuracy: 0.9108 - val_loss: 0.3093 - val_accuracy: 0.9161\n",
            "Epoch 45/100\n",
            "60000/60000 [==============================] - 1s 21us/sample - loss: 0.3164 - accuracy: 0.9118 - val_loss: 0.3059 - val_accuracy: 0.9172\n",
            "Epoch 46/100\n",
            "60000/60000 [==============================] - 1s 21us/sample - loss: 0.3129 - accuracy: 0.9128 - val_loss: 0.3027 - val_accuracy: 0.9176\n",
            "Epoch 47/100\n",
            "60000/60000 [==============================] - 1s 20us/sample - loss: 0.3094 - accuracy: 0.9136 - val_loss: 0.2996 - val_accuracy: 0.9178\n",
            "Epoch 48/100\n",
            "60000/60000 [==============================] - 1s 21us/sample - loss: 0.3061 - accuracy: 0.9147 - val_loss: 0.2966 - val_accuracy: 0.9187\n",
            "Epoch 49/100\n",
            "60000/60000 [==============================] - 1s 21us/sample - loss: 0.3029 - accuracy: 0.9153 - val_loss: 0.2936 - val_accuracy: 0.9191\n",
            "Epoch 50/100\n",
            "60000/60000 [==============================] - 1s 21us/sample - loss: 0.2998 - accuracy: 0.9162 - val_loss: 0.2908 - val_accuracy: 0.9198\n",
            "Epoch 51/100\n",
            "60000/60000 [==============================] - 1s 21us/sample - loss: 0.2968 - accuracy: 0.9170 - val_loss: 0.2880 - val_accuracy: 0.9204\n",
            "Epoch 52/100\n",
            "60000/60000 [==============================] - 1s 21us/sample - loss: 0.2940 - accuracy: 0.9179 - val_loss: 0.2852 - val_accuracy: 0.9210\n",
            "Epoch 53/100\n",
            "60000/60000 [==============================] - 1s 21us/sample - loss: 0.2912 - accuracy: 0.9188 - val_loss: 0.2826 - val_accuracy: 0.9223\n",
            "Epoch 54/100\n",
            "60000/60000 [==============================] - 1s 20us/sample - loss: 0.2885 - accuracy: 0.9196 - val_loss: 0.2801 - val_accuracy: 0.9229\n",
            "Epoch 55/100\n",
            "60000/60000 [==============================] - 1s 20us/sample - loss: 0.2858 - accuracy: 0.9208 - val_loss: 0.2777 - val_accuracy: 0.9240\n",
            "Epoch 56/100\n",
            "60000/60000 [==============================] - 1s 21us/sample - loss: 0.2833 - accuracy: 0.9217 - val_loss: 0.2754 - val_accuracy: 0.9243\n",
            "Epoch 57/100\n",
            "60000/60000 [==============================] - 1s 21us/sample - loss: 0.2808 - accuracy: 0.9224 - val_loss: 0.2732 - val_accuracy: 0.9248\n",
            "Epoch 58/100\n",
            "60000/60000 [==============================] - 1s 20us/sample - loss: 0.2784 - accuracy: 0.9231 - val_loss: 0.2711 - val_accuracy: 0.9254\n",
            "Epoch 59/100\n",
            "60000/60000 [==============================] - 1s 20us/sample - loss: 0.2760 - accuracy: 0.9238 - val_loss: 0.2690 - val_accuracy: 0.9252\n",
            "Epoch 60/100\n",
            "60000/60000 [==============================] - 1s 21us/sample - loss: 0.2738 - accuracy: 0.9245 - val_loss: 0.2670 - val_accuracy: 0.9253\n",
            "Epoch 61/100\n",
            "60000/60000 [==============================] - 1s 21us/sample - loss: 0.2715 - accuracy: 0.9253 - val_loss: 0.2649 - val_accuracy: 0.9260\n",
            "Epoch 62/100\n",
            "60000/60000 [==============================] - 1s 21us/sample - loss: 0.2693 - accuracy: 0.9260 - val_loss: 0.2629 - val_accuracy: 0.9267\n",
            "Epoch 63/100\n",
            "60000/60000 [==============================] - 1s 21us/sample - loss: 0.2672 - accuracy: 0.9268 - val_loss: 0.2610 - val_accuracy: 0.9276\n",
            "Epoch 64/100\n",
            "60000/60000 [==============================] - 1s 21us/sample - loss: 0.2651 - accuracy: 0.9273 - val_loss: 0.2591 - val_accuracy: 0.9280\n",
            "Epoch 65/100\n",
            "60000/60000 [==============================] - 1s 21us/sample - loss: 0.2631 - accuracy: 0.9279 - val_loss: 0.2572 - val_accuracy: 0.9286\n",
            "Epoch 66/100\n",
            "60000/60000 [==============================] - 1s 21us/sample - loss: 0.2610 - accuracy: 0.9286 - val_loss: 0.2554 - val_accuracy: 0.9293\n",
            "Epoch 67/100\n",
            "60000/60000 [==============================] - 1s 21us/sample - loss: 0.2591 - accuracy: 0.9291 - val_loss: 0.2537 - val_accuracy: 0.9293\n",
            "Epoch 68/100\n",
            "60000/60000 [==============================] - 1s 21us/sample - loss: 0.2571 - accuracy: 0.9297 - val_loss: 0.2519 - val_accuracy: 0.9297\n",
            "Epoch 69/100\n",
            "60000/60000 [==============================] - 1s 20us/sample - loss: 0.2552 - accuracy: 0.9302 - val_loss: 0.2502 - val_accuracy: 0.9300\n",
            "Epoch 70/100\n",
            "60000/60000 [==============================] - 1s 20us/sample - loss: 0.2534 - accuracy: 0.9307 - val_loss: 0.2486 - val_accuracy: 0.9301\n",
            "Epoch 71/100\n",
            "60000/60000 [==============================] - 1s 21us/sample - loss: 0.2515 - accuracy: 0.9312 - val_loss: 0.2469 - val_accuracy: 0.9304\n",
            "Epoch 72/100\n",
            "60000/60000 [==============================] - 1s 21us/sample - loss: 0.2497 - accuracy: 0.9316 - val_loss: 0.2453 - val_accuracy: 0.9305\n",
            "Epoch 73/100\n",
            "60000/60000 [==============================] - 1s 21us/sample - loss: 0.2479 - accuracy: 0.9323 - val_loss: 0.2438 - val_accuracy: 0.9310\n",
            "Epoch 74/100\n",
            "60000/60000 [==============================] - 1s 21us/sample - loss: 0.2462 - accuracy: 0.9327 - val_loss: 0.2422 - val_accuracy: 0.9312\n",
            "Epoch 75/100\n",
            "60000/60000 [==============================] - 1s 21us/sample - loss: 0.2445 - accuracy: 0.9333 - val_loss: 0.2407 - val_accuracy: 0.9319\n",
            "Epoch 76/100\n",
            "60000/60000 [==============================] - 1s 21us/sample - loss: 0.2428 - accuracy: 0.9336 - val_loss: 0.2392 - val_accuracy: 0.9324\n",
            "Epoch 77/100\n",
            "60000/60000 [==============================] - 1s 21us/sample - loss: 0.2411 - accuracy: 0.9340 - val_loss: 0.2378 - val_accuracy: 0.9331\n",
            "Epoch 78/100\n",
            "60000/60000 [==============================] - 1s 20us/sample - loss: 0.2394 - accuracy: 0.9345 - val_loss: 0.2363 - val_accuracy: 0.9338\n",
            "Epoch 79/100\n",
            "60000/60000 [==============================] - 1s 20us/sample - loss: 0.2378 - accuracy: 0.9350 - val_loss: 0.2349 - val_accuracy: 0.9343\n",
            "Epoch 80/100\n",
            "60000/60000 [==============================] - 1s 21us/sample - loss: 0.2362 - accuracy: 0.9354 - val_loss: 0.2335 - val_accuracy: 0.9348\n",
            "Epoch 81/100\n",
            "60000/60000 [==============================] - 1s 21us/sample - loss: 0.2346 - accuracy: 0.9359 - val_loss: 0.2321 - val_accuracy: 0.9350\n",
            "Epoch 82/100\n",
            "60000/60000 [==============================] - 1s 20us/sample - loss: 0.2330 - accuracy: 0.9363 - val_loss: 0.2307 - val_accuracy: 0.9350\n",
            "Epoch 83/100\n",
            "60000/60000 [==============================] - 1s 21us/sample - loss: 0.2314 - accuracy: 0.9367 - val_loss: 0.2294 - val_accuracy: 0.9355\n",
            "Epoch 84/100\n",
            "60000/60000 [==============================] - 1s 21us/sample - loss: 0.2299 - accuracy: 0.9370 - val_loss: 0.2281 - val_accuracy: 0.9356\n",
            "Epoch 85/100\n",
            "60000/60000 [==============================] - 1s 21us/sample - loss: 0.2283 - accuracy: 0.9374 - val_loss: 0.2268 - val_accuracy: 0.9364\n",
            "Epoch 86/100\n",
            "60000/60000 [==============================] - 1s 21us/sample - loss: 0.2268 - accuracy: 0.9378 - val_loss: 0.2255 - val_accuracy: 0.9367\n",
            "Epoch 87/100\n",
            "60000/60000 [==============================] - 1s 21us/sample - loss: 0.2253 - accuracy: 0.9382 - val_loss: 0.2242 - val_accuracy: 0.9370\n",
            "Epoch 88/100\n",
            "60000/60000 [==============================] - 1s 21us/sample - loss: 0.2239 - accuracy: 0.9386 - val_loss: 0.2229 - val_accuracy: 0.9372\n",
            "Epoch 89/100\n",
            "60000/60000 [==============================] - 1s 21us/sample - loss: 0.2224 - accuracy: 0.9391 - val_loss: 0.2217 - val_accuracy: 0.9375\n",
            "Epoch 90/100\n",
            "60000/60000 [==============================] - 1s 21us/sample - loss: 0.2209 - accuracy: 0.9395 - val_loss: 0.2204 - val_accuracy: 0.9379\n",
            "Epoch 91/100\n",
            "60000/60000 [==============================] - 1s 20us/sample - loss: 0.2195 - accuracy: 0.9399 - val_loss: 0.2192 - val_accuracy: 0.9383\n",
            "Epoch 92/100\n",
            "60000/60000 [==============================] - 1s 20us/sample - loss: 0.2181 - accuracy: 0.9403 - val_loss: 0.2180 - val_accuracy: 0.9387\n",
            "Epoch 93/100\n",
            "60000/60000 [==============================] - 1s 21us/sample - loss: 0.2167 - accuracy: 0.9408 - val_loss: 0.2168 - val_accuracy: 0.9387\n",
            "Epoch 94/100\n",
            "60000/60000 [==============================] - 1s 21us/sample - loss: 0.2153 - accuracy: 0.9412 - val_loss: 0.2156 - val_accuracy: 0.9395\n",
            "Epoch 95/100\n",
            "60000/60000 [==============================] - 1s 20us/sample - loss: 0.2139 - accuracy: 0.9415 - val_loss: 0.2144 - val_accuracy: 0.9401\n",
            "Epoch 96/100\n",
            "60000/60000 [==============================] - 1s 21us/sample - loss: 0.2126 - accuracy: 0.9420 - val_loss: 0.2132 - val_accuracy: 0.9403\n",
            "Epoch 97/100\n",
            "60000/60000 [==============================] - 1s 21us/sample - loss: 0.2112 - accuracy: 0.9423 - val_loss: 0.2121 - val_accuracy: 0.9411\n",
            "Epoch 98/100\n",
            "60000/60000 [==============================] - 1s 22us/sample - loss: 0.2099 - accuracy: 0.9427 - val_loss: 0.2109 - val_accuracy: 0.9412\n",
            "Epoch 99/100\n",
            "60000/60000 [==============================] - 1s 21us/sample - loss: 0.2086 - accuracy: 0.9431 - val_loss: 0.2098 - val_accuracy: 0.9415\n",
            "Epoch 100/100\n",
            "60000/60000 [==============================] - 1s 20us/sample - loss: 0.2072 - accuracy: 0.9434 - val_loss: 0.2087 - val_accuracy: 0.9416\n",
            "\n",
            "Test loss: 0.209\n",
            "Test accuracy: 0.942\n"
          ],
          "name": "stdout"
        }
      ]
    },
    {
      "cell_type": "code",
      "metadata": {
        "id": "CrtTxW-yfMDv",
        "colab": {
          "base_uri": "https://localhost:8080/",
          "height": 313
        },
        "outputId": "2c665b6e-f88a-4303-b0a4-198c0e7fab46"
      },
      "source": [
        "plt.plot(history.history['loss'])\n",
        "plt.plot(history.history['val_loss'])\n",
        "plt.title('model loss')\n",
        "plt.ylabel('loss')\n",
        "plt.xlabel('epoch')\n",
        "plt.legend(['train', 'test'], loc='upper left')"
      ],
      "execution_count": null,
      "outputs": [
        {
          "output_type": "execute_result",
          "data": {
            "text/plain": [
              "<matplotlib.legend.Legend at 0x7f62db46e860>"
            ]
          },
          "metadata": {
            "tags": []
          },
          "execution_count": 37
        },
        {
          "output_type": "display_data",
          "data": {
            "image/png": "[encoded data removed]",
            "text/plain": [
              "<Figure size 432x288 with 1 Axes>"
            ]
          },
          "metadata": {
            "tags": []
          }
        }
      ]
    },
    {
      "cell_type": "code",
      "metadata": {
        "id": "Vb-ltW2JfMDy",
        "colab": {
          "base_uri": "https://localhost:8080/",
          "height": 313
        },
        "outputId": "98bdb2db-aaf5-42a5-998c-7ad31fa8523f"
      },
      "source": [
        "plt.plot(history.history['accuracy'])\n",
        "plt.plot(history.history['val_accuracy'])\n",
        "plt.title('model Accuracy')\n",
        "plt.ylabel('Accuracy')\n",
        "plt.xlabel('epoch')\n",
        "plt.legend(['train', 'test'], loc='upper left')"
      ],
      "execution_count": null,
      "outputs": [
        {
          "output_type": "execute_result",
          "data": {
            "text/plain": [
              "<matplotlib.legend.Legend at 0x7f62db387ac8>"
            ]
          },
          "metadata": {
            "tags": []
          },
          "execution_count": 38
        },
        {
          "output_type": "display_data",
          "data": {
            "image/png": "[encoded data removed]",
            "text/plain": [
              "<Figure size 432x288 with 1 Axes>"
            ]
          },
          "metadata": {
            "tags": []
          }
        }
      ]
    },
    {
      "cell_type": "code",
      "metadata": {
        "id": "yqvpRCR2fMD1",
        "colab": {
          "base_uri": "https://localhost:8080/",
          "height": 319
        },
        "outputId": "865a4a4a-e257-4848-fba7-28dd0b57cba9"
      },
      "source": [
        "print(history.history['val_accuracy'])\n",
        "\n",
        "print(history.history['accuracy'])\n",
        "\n",
        "ta = pd.DataFrame(history.history['accuracy'])\n",
        "va = pd.DataFrame(history.history['val_accuracy'])\n",
        "\n",
        "tva = pd.concat([ta,va] , axis=1)\n",
        "\n",
        "tva.boxplot()"
      ],
      "execution_count": null,
      "outputs": [
        {
          "output_type": "stream",
          "text": [
            "[0.9422, 0.9572, 0.9665, 0.9721, 0.975, 0.9769, 0.9768, 0.9783, 0.9787, 0.9788, 0.9803, 0.9793]\n",
            "[0.8972333, 0.9532167, 0.9669667, 0.97456664, 0.9799167, 0.9837667, 0.9873, 0.98898333, 0.99118334, 0.9927833, 0.9943333, 0.99545]\n"
          ],
          "name": "stdout"
        },
        {
          "output_type": "execute_result",
          "data": {
            "text/plain": [
              "<matplotlib.axes._subplots.AxesSubplot at 0x7fd7db22b080>"
            ]
          },
          "metadata": {
            "tags": []
          },
          "execution_count": 27
        },
        {
          "output_type": "display_data",
          "data": {
            "image/png": "[encoded data removed]",
            "text/plain": [
              "<Figure size 432x288 with 1 Axes>"
            ]
          },
          "metadata": {
            "tags": []
          }
        }
      ]
    },
    {
      "cell_type": "markdown",
      "metadata": {
        "id": "TWbP6wEqfMD3"
      },
      "source": [
        "## Observations on Epochs\n",
        "\n",
        "1. Without early stopping, epochs leads to clear overfitting\n",
        "2. Increasing Epochs is not useful. The Model becomes severly overfit\n",
        "3. With smaller batch size, looks like it is a case of curse of dimensionality.... \n",
        "4. large batch size of 30,000 the model stabilizes, avoids overfitting but the score is marginally reduced in validation. This shows that too many epochs with small batch size is a waste. "
      ]
    },
    {
      "cell_type": "markdown",
      "metadata": {
        "id": "onxGR3A2fMD3"
      },
      "source": [
        "## Overall observation on layers, number of neurons, batch size and epoch\n",
        "1. Keep the model simple in terms of number of layers and number of neurons. This will reduce time to train, less computation\n",
        "   needs\n",
        "    \n",
        "2. Keep batch size on the larger side. It stabilizes the mode and gives more reliable estimates. If the entire data and fit in\n",
        "then do not use batch size \n",
        "\n",
        "3. Too many epochs is not helpful. It leads to waste of time and resources and overfit models Constrain epochs using early \n",
        "stopping.\n",
        "\n",
        "4. use more epochs if the batch size is large. With smaller batch size, the model tends to overfit in first few epochs... the\n",
        "situation become worse with more epochs\n"
      ]
    },
    {
      "cell_type": "markdown",
      "metadata": {
        "id": "DOXonzLkfMD4"
      },
      "source": [
        "# Activation function selection"
      ]
    },
    {
      "cell_type": "code",
      "metadata": {
        "id": "djtAJcrafMD5",
        "colab": {
          "base_uri": "https://localhost:8080/",
          "height": 1000
        },
        "outputId": "645b17db-04dd-4788-b4d7-0c23a357c911"
      },
      "source": [
        "batch_size = 256\n",
        "epochs = 20\n",
        "\n",
        "LeakyReLU = tf.keras.layers.LeakyReLU\n",
        "\n",
        "for activation in [None, 'sigmoid', 'tanh', 'relu' , LeakyRelu ]:\n",
        "    model = Sequential()\n",
        "    model.add(Dense(256, activation=activation, input_shape=(784,)))\n",
        "    model.add(Dense(num_classes, activation='softmax'))\n",
        "    model.compile(loss='categorical_crossentropy',\n",
        "              optimizer='adam',\n",
        "              metrics=['accuracy'])\n",
        "\n",
        "    history = model.fit(x_train, y_train,\n",
        "                    batch_size=batch_size,\n",
        "                    epochs=epochs,\n",
        "                    verbose=1,\n",
        "                    validation_data=(x_test, y_test))\n",
        "    loss, accuracy  = model.evaluate(x_test, y_test, verbose=False)\n",
        "    \n",
        "    print()\n",
        "    print(f'Test loss: {loss:.3}')\n",
        "    print(f'Test accuracy: {accuracy:.3}')\n",
        "    \n",
        "    plt.plot(history.history['val_accuracy'])\n",
        "\n",
        "    \n",
        "    \n",
        "    \n",
        "    \n",
        "    \n",
        "plt.title('model accuracy')\n",
        "plt.ylabel('Accuracy')\n",
        "plt.xlabel('epoch')\n",
        "plt.legend(['None', 'sigmoid', 'tanh', 'relu'], loc='upper left')"
      ],
      "execution_count": null,
      "outputs": [
        {
          "output_type": "stream",
          "text": [
            "Train on 60000 samples, validate on 10000 samples\n",
            "Epoch 1/20\n",
            "60000/60000 [==============================] - 3s 46us/sample - loss: 0.4122 - accuracy: 0.8817 - val_loss: 0.2959 - val_accuracy: 0.9151\n",
            "Epoch 2/20\n",
            "60000/60000 [==============================] - 2s 34us/sample - loss: 0.2904 - accuracy: 0.9181 - val_loss: 0.2808 - val_accuracy: 0.9200\n",
            "Epoch 3/20\n",
            "60000/60000 [==============================] - 2s 34us/sample - loss: 0.2790 - accuracy: 0.9225 - val_loss: 0.2825 - val_accuracy: 0.9241\n",
            "Epoch 4/20\n",
            "60000/60000 [==============================] - 2s 32us/sample - loss: 0.2722 - accuracy: 0.9242 - val_loss: 0.2699 - val_accuracy: 0.9255\n",
            "Epoch 5/20\n",
            "60000/60000 [==============================] - 2s 33us/sample - loss: 0.2670 - accuracy: 0.9262 - val_loss: 0.2825 - val_accuracy: 0.9223\n",
            "Epoch 6/20\n",
            "60000/60000 [==============================] - 2s 34us/sample - loss: 0.2627 - accuracy: 0.9270 - val_loss: 0.2753 - val_accuracy: 0.9239\n",
            "Epoch 7/20\n",
            "60000/60000 [==============================] - 2s 34us/sample - loss: 0.2592 - accuracy: 0.9282 - val_loss: 0.2803 - val_accuracy: 0.9239\n",
            "Epoch 8/20\n",
            "60000/60000 [==============================] - 2s 35us/sample - loss: 0.2591 - accuracy: 0.9283 - val_loss: 0.2786 - val_accuracy: 0.9248\n",
            "Epoch 9/20\n",
            "60000/60000 [==============================] - 2s 33us/sample - loss: 0.2577 - accuracy: 0.9280 - val_loss: 0.2743 - val_accuracy: 0.9245\n",
            "Epoch 10/20\n",
            "60000/60000 [==============================] - 2s 33us/sample - loss: 0.2535 - accuracy: 0.9291 - val_loss: 0.2753 - val_accuracy: 0.9252\n",
            "Epoch 11/20\n",
            "60000/60000 [==============================] - 2s 34us/sample - loss: 0.2541 - accuracy: 0.9291 - val_loss: 0.2802 - val_accuracy: 0.9258\n",
            "Epoch 12/20\n",
            "60000/60000 [==============================] - 2s 35us/sample - loss: 0.2516 - accuracy: 0.9308 - val_loss: 0.2771 - val_accuracy: 0.9239\n",
            "Epoch 13/20\n",
            "60000/60000 [==============================] - 2s 34us/sample - loss: 0.2532 - accuracy: 0.9294 - val_loss: 0.2784 - val_accuracy: 0.9240\n",
            "Epoch 14/20\n",
            "60000/60000 [==============================] - 2s 34us/sample - loss: 0.2497 - accuracy: 0.9304 - val_loss: 0.2804 - val_accuracy: 0.9252\n",
            "Epoch 15/20\n",
            "60000/60000 [==============================] - 2s 34us/sample - loss: 0.2493 - accuracy: 0.9310 - val_loss: 0.2789 - val_accuracy: 0.9235\n",
            "Epoch 16/20\n",
            "60000/60000 [==============================] - 2s 33us/sample - loss: 0.2480 - accuracy: 0.9307 - val_loss: 0.2800 - val_accuracy: 0.9263\n",
            "Epoch 17/20\n",
            "60000/60000 [==============================] - 2s 34us/sample - loss: 0.2480 - accuracy: 0.9305 - val_loss: 0.2828 - val_accuracy: 0.9248\n",
            "Epoch 18/20\n",
            "60000/60000 [==============================] - 2s 34us/sample - loss: 0.2470 - accuracy: 0.9315 - val_loss: 0.2933 - val_accuracy: 0.9193\n",
            "Epoch 19/20\n",
            "60000/60000 [==============================] - 2s 34us/sample - loss: 0.2455 - accuracy: 0.9318 - val_loss: 0.2778 - val_accuracy: 0.9231\n",
            "Epoch 20/20\n",
            "60000/60000 [==============================] - 2s 32us/sample - loss: 0.2453 - accuracy: 0.9312 - val_loss: 0.2771 - val_accuracy: 0.9263\n",
            "\n",
            "Test loss: 0.277\n",
            "Test accuracy: 0.926\n",
            "Train on 60000 samples, validate on 10000 samples\n",
            "Epoch 1/20\n",
            "60000/60000 [==============================] - 2s 40us/sample - loss: 0.6456 - accuracy: 0.8471 - val_loss: 0.3287 - val_accuracy: 0.9134\n",
            "Epoch 2/20\n",
            "60000/60000 [==============================] - 2s 36us/sample - loss: 0.2990 - accuracy: 0.9165 - val_loss: 0.2600 - val_accuracy: 0.9234\n",
            "Epoch 3/20\n",
            "60000/60000 [==============================] - 2s 33us/sample - loss: 0.2456 - accuracy: 0.9304 - val_loss: 0.2218 - val_accuracy: 0.9377\n",
            "Epoch 4/20\n",
            "60000/60000 [==============================] - 2s 32us/sample - loss: 0.2103 - accuracy: 0.9405 - val_loss: 0.1956 - val_accuracy: 0.9426\n",
            "Epoch 5/20\n",
            "60000/60000 [==============================] - 2s 34us/sample - loss: 0.1832 - accuracy: 0.9478 - val_loss: 0.1743 - val_accuracy: 0.9497\n",
            "Epoch 6/20\n",
            "60000/60000 [==============================] - 2s 34us/sample - loss: 0.1610 - accuracy: 0.9540 - val_loss: 0.1566 - val_accuracy: 0.9546\n",
            "Epoch 7/20\n",
            "60000/60000 [==============================] - 2s 34us/sample - loss: 0.1426 - accuracy: 0.9586 - val_loss: 0.1407 - val_accuracy: 0.9575\n",
            "Epoch 8/20\n",
            "60000/60000 [==============================] - 2s 35us/sample - loss: 0.1274 - accuracy: 0.9634 - val_loss: 0.1310 - val_accuracy: 0.9622\n",
            "Epoch 9/20\n",
            "60000/60000 [==============================] - 2s 35us/sample - loss: 0.1144 - accuracy: 0.9674 - val_loss: 0.1200 - val_accuracy: 0.9653\n",
            "Epoch 10/20\n",
            "60000/60000 [==============================] - 2s 32us/sample - loss: 0.1032 - accuracy: 0.9710 - val_loss: 0.1149 - val_accuracy: 0.9660\n",
            "Epoch 11/20\n",
            "60000/60000 [==============================] - 2s 34us/sample - loss: 0.0927 - accuracy: 0.9743 - val_loss: 0.1054 - val_accuracy: 0.9684\n",
            "Epoch 12/20\n",
            "60000/60000 [==============================] - 2s 33us/sample - loss: 0.0841 - accuracy: 0.9767 - val_loss: 0.1029 - val_accuracy: 0.9683\n",
            "Epoch 13/20\n",
            "60000/60000 [==============================] - 2s 34us/sample - loss: 0.0767 - accuracy: 0.9789 - val_loss: 0.0955 - val_accuracy: 0.9715\n",
            "Epoch 14/20\n",
            "60000/60000 [==============================] - 2s 33us/sample - loss: 0.0696 - accuracy: 0.9808 - val_loss: 0.0900 - val_accuracy: 0.9728\n",
            "Epoch 15/20\n",
            "60000/60000 [==============================] - 2s 35us/sample - loss: 0.0631 - accuracy: 0.9826 - val_loss: 0.0867 - val_accuracy: 0.9736\n",
            "Epoch 16/20\n",
            "60000/60000 [==============================] - 2s 34us/sample - loss: 0.0579 - accuracy: 0.9842 - val_loss: 0.0842 - val_accuracy: 0.9750\n",
            "Epoch 17/20\n",
            "60000/60000 [==============================] - 2s 35us/sample - loss: 0.0524 - accuracy: 0.9861 - val_loss: 0.0798 - val_accuracy: 0.9762\n",
            "Epoch 18/20\n",
            "60000/60000 [==============================] - 2s 34us/sample - loss: 0.0478 - accuracy: 0.9877 - val_loss: 0.0798 - val_accuracy: 0.9755\n",
            "Epoch 19/20\n",
            "60000/60000 [==============================] - 2s 34us/sample - loss: 0.0434 - accuracy: 0.9887 - val_loss: 0.0775 - val_accuracy: 0.9760\n",
            "Epoch 20/20\n",
            "60000/60000 [==============================] - 2s 35us/sample - loss: 0.0400 - accuracy: 0.9905 - val_loss: 0.0744 - val_accuracy: 0.9761\n",
            "\n",
            "Test loss: 0.0744\n",
            "Test accuracy: 0.976\n",
            "Train on 60000 samples, validate on 10000 samples\n",
            "Epoch 1/20\n",
            "60000/60000 [==============================] - 3s 43us/sample - loss: 0.3998 - accuracy: 0.8874 - val_loss: 0.2498 - val_accuracy: 0.9289\n",
            "Epoch 2/20\n",
            "60000/60000 [==============================] - 2s 35us/sample - loss: 0.2254 - accuracy: 0.9358 - val_loss: 0.1900 - val_accuracy: 0.9460\n",
            "Epoch 3/20\n",
            "60000/60000 [==============================] - 2s 35us/sample - loss: 0.1681 - accuracy: 0.9528 - val_loss: 0.1520 - val_accuracy: 0.9563\n",
            "Epoch 4/20\n",
            "60000/60000 [==============================] - 2s 33us/sample - loss: 0.1331 - accuracy: 0.9625 - val_loss: 0.1276 - val_accuracy: 0.9627\n",
            "Epoch 5/20\n",
            "60000/60000 [==============================] - 2s 35us/sample - loss: 0.1077 - accuracy: 0.9700 - val_loss: 0.1099 - val_accuracy: 0.9669\n",
            "Epoch 6/20\n",
            "60000/60000 [==============================] - 2s 36us/sample - loss: 0.0887 - accuracy: 0.9756 - val_loss: 0.0979 - val_accuracy: 0.9698\n",
            "Epoch 7/20\n",
            "60000/60000 [==============================] - 2s 37us/sample - loss: 0.0745 - accuracy: 0.9795 - val_loss: 0.0869 - val_accuracy: 0.9728\n",
            "Epoch 8/20\n",
            "60000/60000 [==============================] - 2s 35us/sample - loss: 0.0623 - accuracy: 0.9828 - val_loss: 0.0802 - val_accuracy: 0.9747\n",
            "Epoch 9/20\n",
            "60000/60000 [==============================] - 2s 34us/sample - loss: 0.0530 - accuracy: 0.9860 - val_loss: 0.0779 - val_accuracy: 0.9753\n",
            "Epoch 10/20\n",
            "60000/60000 [==============================] - 2s 35us/sample - loss: 0.0449 - accuracy: 0.9883 - val_loss: 0.0730 - val_accuracy: 0.9760\n",
            "Epoch 11/20\n",
            "60000/60000 [==============================] - 2s 36us/sample - loss: 0.0384 - accuracy: 0.9902 - val_loss: 0.0723 - val_accuracy: 0.9758\n",
            "Epoch 12/20\n",
            "60000/60000 [==============================] - 2s 34us/sample - loss: 0.0327 - accuracy: 0.9918 - val_loss: 0.0671 - val_accuracy: 0.9790\n",
            "Epoch 13/20\n",
            "60000/60000 [==============================] - 2s 35us/sample - loss: 0.0277 - accuracy: 0.9939 - val_loss: 0.0660 - val_accuracy: 0.9786\n",
            "Epoch 14/20\n",
            "60000/60000 [==============================] - 2s 34us/sample - loss: 0.0238 - accuracy: 0.9947 - val_loss: 0.0648 - val_accuracy: 0.9789\n",
            "Epoch 15/20\n",
            "60000/60000 [==============================] - 2s 35us/sample - loss: 0.0196 - accuracy: 0.9962 - val_loss: 0.0676 - val_accuracy: 0.9773\n",
            "Epoch 16/20\n",
            "60000/60000 [==============================] - 2s 35us/sample - loss: 0.0166 - accuracy: 0.9973 - val_loss: 0.0644 - val_accuracy: 0.9799\n",
            "Epoch 17/20\n",
            "60000/60000 [==============================] - 2s 37us/sample - loss: 0.0143 - accuracy: 0.9978 - val_loss: 0.0636 - val_accuracy: 0.9802\n",
            "Epoch 18/20\n",
            "60000/60000 [==============================] - 2s 36us/sample - loss: 0.0121 - accuracy: 0.9984 - val_loss: 0.0620 - val_accuracy: 0.9804\n",
            "Epoch 19/20\n",
            "60000/60000 [==============================] - 2s 38us/sample - loss: 0.0102 - accuracy: 0.9991 - val_loss: 0.0632 - val_accuracy: 0.9809\n",
            "Epoch 20/20\n",
            "60000/60000 [==============================] - 2s 37us/sample - loss: 0.0086 - accuracy: 0.9991 - val_loss: 0.0633 - val_accuracy: 0.9806\n",
            "\n",
            "Test loss: 0.0633\n",
            "Test accuracy: 0.981\n",
            "Train on 60000 samples, validate on 10000 samples\n",
            "Epoch 1/20\n",
            "60000/60000 [==============================] - 2s 40us/sample - loss: 0.3763 - accuracy: 0.8975 - val_loss: 0.2004 - val_accuracy: 0.9422\n",
            "Epoch 2/20\n",
            "60000/60000 [==============================] - 2s 36us/sample - loss: 0.1684 - accuracy: 0.9529 - val_loss: 0.1398 - val_accuracy: 0.9584\n",
            "Epoch 3/20\n",
            "60000/60000 [==============================] - 2s 35us/sample - loss: 0.1209 - accuracy: 0.9656 - val_loss: 0.1087 - val_accuracy: 0.9678\n",
            "Epoch 4/20\n",
            "60000/60000 [==============================] - 2s 35us/sample - loss: 0.0917 - accuracy: 0.9745 - val_loss: 0.0946 - val_accuracy: 0.9715\n",
            "Epoch 5/20\n",
            "60000/60000 [==============================] - 2s 34us/sample - loss: 0.0725 - accuracy: 0.9801 - val_loss: 0.0857 - val_accuracy: 0.9750\n",
            "Epoch 6/20\n",
            "60000/60000 [==============================] - 2s 33us/sample - loss: 0.0596 - accuracy: 0.9834 - val_loss: 0.0800 - val_accuracy: 0.9764\n",
            "Epoch 7/20\n",
            "60000/60000 [==============================] - 2s 35us/sample - loss: 0.0493 - accuracy: 0.9866 - val_loss: 0.0700 - val_accuracy: 0.9792\n",
            "Epoch 8/20\n",
            "60000/60000 [==============================] - 2s 34us/sample - loss: 0.0413 - accuracy: 0.9887 - val_loss: 0.0717 - val_accuracy: 0.9784\n",
            "Epoch 9/20\n",
            "60000/60000 [==============================] - 2s 35us/sample - loss: 0.0341 - accuracy: 0.9911 - val_loss: 0.0696 - val_accuracy: 0.9792\n",
            "Epoch 10/20\n",
            "60000/60000 [==============================] - 2s 34us/sample - loss: 0.0282 - accuracy: 0.9926 - val_loss: 0.0692 - val_accuracy: 0.9788\n",
            "Epoch 11/20\n",
            "60000/60000 [==============================] - 2s 35us/sample - loss: 0.0239 - accuracy: 0.9944 - val_loss: 0.0673 - val_accuracy: 0.9795\n",
            "Epoch 12/20\n",
            "60000/60000 [==============================] - 2s 34us/sample - loss: 0.0206 - accuracy: 0.9954 - val_loss: 0.0697 - val_accuracy: 0.9777\n",
            "Epoch 13/20\n",
            "60000/60000 [==============================] - 2s 35us/sample - loss: 0.0174 - accuracy: 0.9959 - val_loss: 0.0654 - val_accuracy: 0.9797\n",
            "Epoch 14/20\n",
            "60000/60000 [==============================] - 2s 34us/sample - loss: 0.0136 - accuracy: 0.9976 - val_loss: 0.0634 - val_accuracy: 0.9802\n",
            "Epoch 15/20\n",
            "60000/60000 [==============================] - 2s 34us/sample - loss: 0.0116 - accuracy: 0.9981 - val_loss: 0.0669 - val_accuracy: 0.9795\n",
            "Epoch 16/20\n",
            "60000/60000 [==============================] - 2s 33us/sample - loss: 0.0096 - accuracy: 0.9984 - val_loss: 0.0647 - val_accuracy: 0.9804\n",
            "Epoch 17/20\n",
            "60000/60000 [==============================] - 2s 33us/sample - loss: 0.0083 - accuracy: 0.9989 - val_loss: 0.0633 - val_accuracy: 0.9803\n",
            "Epoch 18/20\n",
            "60000/60000 [==============================] - 2s 34us/sample - loss: 0.0073 - accuracy: 0.9989 - val_loss: 0.0666 - val_accuracy: 0.9809\n",
            "Epoch 19/20\n",
            "60000/60000 [==============================] - 2s 35us/sample - loss: 0.0059 - accuracy: 0.9993 - val_loss: 0.0665 - val_accuracy: 0.9811\n",
            "Epoch 20/20\n",
            "60000/60000 [==============================] - 2s 33us/sample - loss: 0.0046 - accuracy: 0.9996 - val_loss: 0.0698 - val_accuracy: 0.9798\n",
            "\n",
            "Test loss: 0.0698\n",
            "Test accuracy: 0.98\n"
          ],
          "name": "stdout"
        },
        {
          "output_type": "execute_result",
          "data": {
            "text/plain": [
              "<matplotlib.legend.Legend at 0x7f62d7f60ba8>"
            ]
          },
          "metadata": {
            "tags": []
          },
          "execution_count": 69
        },
        {
          "output_type": "display_data",
          "data": {
            "image/png": "[encoded data removed]",
            "text/plain": [
              "<Figure size 432x288 with 1 Axes>"
            ]
          },
          "metadata": {
            "tags": []
          }
        }
      ]
    },
    {
      "cell_type": "markdown",
      "metadata": {
        "id": "vdgOo3n-fMD9"
      },
      "source": [
        "## Observations about choice of activation  functions\n",
        "\n",
        "1. The blue line is for a linear function and surprisingly it is giving 91% + accuracy!\n",
        "2. However, all the other standard activations ReLU, tanh, Sigmoid are performing relatively much better\n",
        "3. All converge to same 98% +- accuracy score with increase in epoch (upto 15)\n",
        "4. Any further increase in epochs may not help as all of them stop increasing beyond \n",
        "5. Sigmoid is the slowest learner followed by tanh while ReLU seems to learn fast...."
      ]
    },
    {
      "cell_type": "markdown",
      "metadata": {
        "id": "ujOursKgfMD-"
      },
      "source": [
        "# Learning Rate Optimization "
      ]
    },
    {
      "cell_type": "code",
      "metadata": {
        "id": "M3O3PAQEfMD_"
      },
      "source": [
        "#from keras import optimizers\n",
        "\n",
        "def create_model():\n",
        "    model = Sequential()\n",
        "    model.add(Dense(256, activation='relu', input_shape=(784,)))\n",
        "    model.add(Dense(num_classes, activation='softmax'))  \n",
        "\n",
        "    return model\n",
        "\n"
      ],
      "execution_count": null,
      "outputs": []
    },
    {
      "cell_type": "code",
      "metadata": {
        "id": "jN3w1_LnfMEC"
      },
      "source": [
        "\n",
        "def run_model(model, lrr):\n",
        "    batch_size = 30000   \n",
        "    epochs = 10\n",
        "    model.summary()\n",
        "    opt = tf.keras.optimizers.Adam(learning_rate=lrr) \n",
        "    model.compile(optimizer=opt, loss='categorical_crossentropy', metrics=['accuracy'])\n",
        "    history = model.fit(x_train, y_train, batch_size=batch_size, epochs=epochs, validation_split=.1, verbose=False)\n",
        "    loss, accuracy  = model.evaluate(x_test, y_test, verbose=False)\n",
        "    print(\"learning rate\" , lr)\n",
        "    plt.plot(history.history['accuracy'])\n",
        "    plt.plot(history.history['val_accuracy'])\n",
        "    plt.title('model accuracy')\n",
        "    plt.ylabel('accuracy')\n",
        "    plt.xlabel('epoch')\n",
        "    plt.legend(['training', 'validation'], loc='best')\n",
        "    plt.show()\n",
        "\n",
        "\n",
        "\n",
        "\n",
        "\n",
        "\n",
        "\n",
        "    print()\n",
        "    print(f'Test loss: {loss:.3}')\n",
        "    print(f'Test accuracy: {accuracy:.3}')\n"
      ],
      "execution_count": null,
      "outputs": []
    },
    {
      "cell_type": "code",
      "metadata": {
        "id": "-tyAgE8mfMEE",
        "colab": {
          "base_uri": "https://localhost:8080/",
          "height": 1000
        },
        "outputId": "d675fe06-cde9-455d-e500-b543ab72b17e"
      },
      "source": [
        "import numpy as np\n",
        "\n",
        "for lr in np.arange(0.001, 0.005 , 0.001):    # try lr of 0.010 to 0.015 in steps of 0.001\n",
        "    model = create_model()\n",
        "    run_model(model , lr)\n"
      ],
      "execution_count": null,
      "outputs": [
        {
          "output_type": "stream",
          "text": [
            "Model: \"sequential_39\"\n",
            "_________________________________________________________________\n",
            "Layer (type)                 Output Shape              Param #   \n",
            "=================================================================\n",
            "dense_79 (Dense)             (None, 256)               200960    \n",
            "_________________________________________________________________\n",
            "dense_80 (Dense)             (None, 10)                2570      \n",
            "=================================================================\n",
            "Total params: 203,530\n",
            "Trainable params: 203,530\n",
            "Non-trainable params: 0\n",
            "_________________________________________________________________\n",
            "learning rate 0.001\n"
          ],
          "name": "stdout"
        },
        {
          "output_type": "display_data",
          "data": {
            "image/png": "[encoded data removed]",
            "text/plain": [
              "<Figure size 432x288 with 1 Axes>"
            ]
          },
          "metadata": {
            "tags": []
          }
        },
        {
          "output_type": "stream",
          "text": [
            "\n",
            "Test loss: 0.487\n",
            "Test accuracy: 0.873\n",
            "Model: \"sequential_40\"\n",
            "_________________________________________________________________\n",
            "Layer (type)                 Output Shape              Param #   \n",
            "=================================================================\n",
            "dense_81 (Dense)             (None, 256)               200960    \n",
            "_________________________________________________________________\n",
            "dense_82 (Dense)             (None, 10)                2570      \n",
            "=================================================================\n",
            "Total params: 203,530\n",
            "Trainable params: 203,530\n",
            "Non-trainable params: 0\n",
            "_________________________________________________________________\n",
            "learning rate 0.002\n"
          ],
          "name": "stdout"
        },
        {
          "output_type": "display_data",
          "data": {
            "image/png": "[encoded data removed]",
            "text/plain": [
              "<Figure size 432x288 with 1 Axes>"
            ]
          },
          "metadata": {
            "tags": []
          }
        },
        {
          "output_type": "stream",
          "text": [
            "\n",
            "Test loss: 0.342\n",
            "Test accuracy: 0.902\n",
            "Model: \"sequential_41\"\n",
            "_________________________________________________________________\n",
            "Layer (type)                 Output Shape              Param #   \n",
            "=================================================================\n",
            "dense_83 (Dense)             (None, 256)               200960    \n",
            "_________________________________________________________________\n",
            "dense_84 (Dense)             (None, 10)                2570      \n",
            "=================================================================\n",
            "Total params: 203,530\n",
            "Trainable params: 203,530\n",
            "Non-trainable params: 0\n",
            "_________________________________________________________________\n",
            "learning rate 0.003\n"
          ],
          "name": "stdout"
        },
        {
          "output_type": "display_data",
          "data": {
            "image/png": "[encoded data removed]",
            "text/plain": [
              "<Figure size 432x288 with 1 Axes>"
            ]
          },
          "metadata": {
            "tags": []
          }
        },
        {
          "output_type": "stream",
          "text": [
            "\n",
            "Test loss: 0.317\n",
            "Test accuracy: 0.91\n",
            "Model: \"sequential_42\"\n",
            "_________________________________________________________________\n",
            "Layer (type)                 Output Shape              Param #   \n",
            "=================================================================\n",
            "dense_85 (Dense)             (None, 256)               200960    \n",
            "_________________________________________________________________\n",
            "dense_86 (Dense)             (None, 10)                2570      \n",
            "=================================================================\n",
            "Total params: 203,530\n",
            "Trainable params: 203,530\n",
            "Non-trainable params: 0\n",
            "_________________________________________________________________\n",
            "learning rate 0.004\n"
          ],
          "name": "stdout"
        },
        {
          "output_type": "display_data",
          "data": {
            "image/png": "[encoded data removed]",
            "text/plain": [
              "<Figure size 432x288 with 1 Axes>"
            ]
          },
          "metadata": {
            "tags": []
          }
        },
        {
          "output_type": "stream",
          "text": [
            "\n",
            "Test loss: 0.288\n",
            "Test accuracy: 0.919\n"
          ],
          "name": "stdout"
        }
      ]
    },
    {
      "cell_type": "markdown",
      "metadata": {
        "id": "8SlyIpvifMEG"
      },
      "source": [
        "## Observations about choice of learning rate\n",
        "\n",
        "1. Too small learning rates such as 0.00001 requires large number of epochs to learn. Both training and testing scores are low\n",
        "2. Larger learning rates 0.05 for e.g. lead to unstable model in validation data and overall poor scores in training and test\n",
        "3. Learning rates of 0.005 give more stable results early in the epoch. Becomes overfit with more epochs\n"
      ]
    },
    {
      "cell_type": "markdown",
      "metadata": {
        "id": "M8Rjlf1ffMEH"
      },
      "source": [
        "# Gradient Descent Optimizers"
      ]
    },
    {
      "cell_type": "code",
      "metadata": {
        "id": "3D4F0g-ufMEI"
      },
      "source": [
        "def create_model():\n",
        "    model = Sequential()\n",
        "    model.add(Dense(256, activation='relu', input_shape=(784,)))\n",
        "    model.add(Dense(num_classes, activation='softmax'))  \n",
        "\n",
        "    return model\n",
        "\n"
      ],
      "execution_count": null,
      "outputs": []
    },
    {
      "cell_type": "code",
      "metadata": {
        "id": "qIcu5bYRfMEL"
      },
      "source": [
        "#from keras import optimizers\n",
        " \n",
        "\n",
        "def run_model(model):\n",
        "    batch_size = 30000    # keep in 2^x \n",
        "    epochs = 10\n",
        "    model.summary()\n",
        "#    opt = optimizers.SGD(lr=0.01, decay=1e-6, momentum=0.9, nesterov=True)\n",
        "#    opt = tf.keras.optimizers.Adam(lr=0.01, decay=1e-6)\n",
        "#    opt = tf.keras.optimizers.RMSprop(lr=0.01, decay=1e-6)\n",
        "\n",
        "\n",
        "  \n",
        "    model.compile(optimizer=opt, loss='categorical_crossentropy', metrics=['accuracy'])\n",
        "    history = model.fit(x_train, y_train, batch_size=batch_size, epochs=epochs, validation_split=.1, verbose=False)\n",
        "    loss, accuracy  = model.evaluate(x_test, y_test, verbose=False)\n",
        "  \n",
        "    plt.plot(history.history['accuracy'])\n",
        "    plt.plot(history.history['val_accuracy'])\n",
        "    plt.title('model accuracy')\n",
        "    plt.ylabel('accuracy')\n",
        "    plt.xlabel('epoch')\n",
        "    plt.legend(['training', 'validation'], loc='best')\n",
        "    plt.show()\n",
        "\n",
        "\n",
        "\n",
        "\n",
        "\n",
        "\n",
        "\n",
        "    print()\n",
        "    print(f'Test loss: {loss:.3}')\n",
        "    print(f'Test accuracy: {accuracy:.3}')\n"
      ],
      "execution_count": null,
      "outputs": []
    },
    {
      "cell_type": "code",
      "metadata": {
        "id": "1codQYzffMEO",
        "colab": {
          "base_uri": "https://localhost:8080/",
          "height": 555
        },
        "outputId": "019e6c6b-98ff-422b-a51b-16f259410739"
      },
      "source": [
        "model = create_model()\n",
        "run_model(model)"
      ],
      "execution_count": null,
      "outputs": [
        {
          "output_type": "stream",
          "text": [
            "Model: \"sequential_21\"\n",
            "_________________________________________________________________\n",
            "Layer (type)                 Output Shape              Param #   \n",
            "=================================================================\n",
            "dense_43 (Dense)             (None, 256)               200960    \n",
            "_________________________________________________________________\n",
            "dense_44 (Dense)             (None, 10)                2570      \n",
            "=================================================================\n",
            "Total params: 203,530\n",
            "Trainable params: 203,530\n",
            "Non-trainable params: 0\n",
            "_________________________________________________________________\n"
          ],
          "name": "stdout"
        },
        {
          "output_type": "display_data",
          "data": {
            "image/png": "[encoded data removed]",
            "text/plain": [
              "<Figure size 432x288 with 1 Axes>"
            ]
          },
          "metadata": {
            "tags": []
          }
        },
        {
          "output_type": "stream",
          "text": [
            "\n",
            "Test loss: 0.336\n",
            "Test accuracy: 0.904\n"
          ],
          "name": "stdout"
        }
      ]
    },
    {
      "cell_type": "markdown",
      "metadata": {
        "id": "rC5FZyn5fMEQ"
      },
      "source": [
        "# Dropout based regularization\n",
        "\n"
      ]
    },
    {
      "cell_type": "code",
      "metadata": {
        "id": "_TKVKed1fMER"
      },
      "source": [
        "#from keras.constraints import max_norm\n",
        "from tensorflow.keras.constraints import MaxNorm\n",
        "\n",
        "def create_model():\n",
        "    model = Sequential()\n",
        "    model.add(Dense(256, activation='relu', input_shape=(784,), kernel_constraint = MaxNorm(2)))\n",
        "    model.add(Dropout(0.2) )  # 30% drop out for the first hidden layer   ----- > drop out\n",
        "    model.add(Dense(num_classes, activation='softmax'))  \n",
        "\n",
        "    return model\n",
        "\n"
      ],
      "execution_count": null,
      "outputs": []
    },
    {
      "cell_type": "code",
      "metadata": {
        "id": "DvUQoh7BfMEV"
      },
      "source": [
        "#from keras import optimizers\n",
        "\n",
        "def run_model(model):\n",
        "    batch_size = 30000   \n",
        "    epochs = 20\n",
        "    model.summary()\n",
        "    opt = tf.keras.optimizers.Adam(lr=0.05)\n",
        "\n",
        "\n",
        "\n",
        "  \n",
        "    model.compile(optimizer=opt, loss='categorical_crossentropy', metrics=['accuracy'])\n",
        "    history = model.fit(x_train, y_train, batch_size=batch_size, epochs=epochs, validation_split=.1, verbose=False)\n",
        "    loss, accuracy  = model.evaluate(x_test, y_test, verbose=False)\n",
        "  \n",
        "    plt.plot(history.history['accuracy'])\n",
        "    plt.plot(history.history['val_accuracy'])\n",
        "    plt.title('model accuracy')\n",
        "    plt.ylabel('accuracy')\n",
        "    plt.xlabel('epoch')\n",
        "    plt.legend(['training', 'validation'], loc='best')\n",
        "    plt.show()\n",
        "\n",
        "\n",
        "\n",
        "\n",
        "\n",
        "\n",
        "\n",
        "    print()\n",
        "    print(f'Test loss: {loss:.3}')\n",
        "    print(f'Test accuracy: {accuracy:.3}')\n"
      ],
      "execution_count": null,
      "outputs": []
    },
    {
      "cell_type": "code",
      "metadata": {
        "scrolled": true,
        "id": "XmNOiaJhfMEY",
        "colab": {
          "base_uri": "https://localhost:8080/",
          "height": 590
        },
        "outputId": "6912b534-add9-4294-b409-5f7aaab69cb2"
      },
      "source": [
        "model = create_model()\n",
        "run_model(model)"
      ],
      "execution_count": null,
      "outputs": [
        {
          "output_type": "stream",
          "text": [
            "Model: \"sequential_45\"\n",
            "_________________________________________________________________\n",
            "Layer (type)                 Output Shape              Param #   \n",
            "=================================================================\n",
            "dense_91 (Dense)             (None, 256)               200960    \n",
            "_________________________________________________________________\n",
            "dropout_2 (Dropout)          (None, 256)               0         \n",
            "_________________________________________________________________\n",
            "dense_92 (Dense)             (None, 10)                2570      \n",
            "=================================================================\n",
            "Total params: 203,530\n",
            "Trainable params: 203,530\n",
            "Non-trainable params: 0\n",
            "_________________________________________________________________\n"
          ],
          "name": "stdout"
        },
        {
          "output_type": "display_data",
          "data": {
            "image/png": "[encoded data removed]",
            "text/plain": [
              "<Figure size 432x288 with 1 Axes>"
            ]
          },
          "metadata": {
            "tags": []
          }
        },
        {
          "output_type": "stream",
          "text": [
            "\n",
            "Test loss: 0.293\n",
            "Test accuracy: 0.914\n"
          ],
          "name": "stdout"
        }
      ]
    },
    {
      "cell_type": "markdown",
      "metadata": {
        "id": "gZJmL9lffMEa"
      },
      "source": [
        "## Observations about Dropout \n",
        "\n",
        "1. Dropout layer on a simple model with one hidden layer seems to have an adverese impact.\n",
        "2. Dropout layer is leading to unstable behavior in the model bothin training and testing\n",
        "\n"
      ]
    },
    {
      "cell_type": "code",
      "metadata": {
        "id": "Vtj-3ZflfMEb"
      },
      "source": [
        "# Create model with two layers of 128 neurons each to see the impact of drop out"
      ],
      "execution_count": null,
      "outputs": []
    },
    {
      "cell_type": "code",
      "metadata": {
        "id": "5qFYEqtAfMEf"
      },
      "source": [
        "from keras.constraints import max_norm\n",
        "\n",
        "def create_model():\n",
        "    model = Sequential()\n",
        "    model.add(Dense(128, activation='relu', input_shape=(784,)))\n",
        "    model.add(BatchNormalization())\n",
        "    model.add(Dropout(0.2) )  # drop out for the second hidden layer   ----- > drop out\n",
        "    model.add(Dense(128, activation='relu',  kernel_constraint = max_norm(2) ))\n",
        "    model.add(Dropout(0.2) )  # drop out for the second hidden layer   ----- > drop out\n",
        "    model.add(Dense(num_classes, activation='softmax'))  \n",
        "\n",
        "    return model\n",
        "\n"
      ],
      "execution_count": null,
      "outputs": []
    },
    {
      "cell_type": "code",
      "metadata": {
        "id": "Zu-Pb2yPfMEg"
      },
      "source": [
        "def run_model(model):\n",
        "    batch_size = 256    \n",
        "    epochs = 20\n",
        "    model.summary()\n",
        "    opt = optimizers.Adam(lr=0.005)\n",
        "  \n",
        "    model.compile(optimizer=opt, loss='categorical_crossentropy', metrics=['accuracy'])\n",
        "    history = model.fit(x_train, y_train, batch_size=batch_size, epochs=epochs, validation_split=.1, verbose=False)\n",
        "    loss, accuracy  = model.evaluate(x_test, y_test, verbose=False)\n",
        "  \n",
        "    plt.plot(history.history['accuracy'])\n",
        "    plt.plot(history.history['val_accuracy'])\n",
        "    plt.title('model accuracy')\n",
        "    plt.ylabel('accuracy')\n",
        "    plt.xlabel('epoch')\n",
        "    plt.legend(['training', 'validation'], loc='best')\n",
        "    plt.show()\n",
        "\n",
        "    print()\n",
        "    print(f'Test loss: {loss:.3}')\n",
        "    print(f'Test accuracy: {accuracy:.3}')\n"
      ],
      "execution_count": null,
      "outputs": []
    },
    {
      "cell_type": "code",
      "metadata": {
        "id": "tdsdSka4fMEi",
        "outputId": "279d518e-e4a4-4b1c-d09e-a0b05e1ed8ce"
      },
      "source": [
        "model = create_model()\n",
        "run_model(model)"
      ],
      "execution_count": null,
      "outputs": [
        {
          "output_type": "stream",
          "text": [
            "Model: \"sequential_208\"\n",
            "_________________________________________________________________\n",
            "Layer (type)                 Output Shape              Param #   \n",
            "=================================================================\n",
            "dense_578 (Dense)            (None, 128)               100480    \n",
            "_________________________________________________________________\n",
            "batch_normalization_1 (Batch (None, 128)               512       \n",
            "_________________________________________________________________\n",
            "dropout_198 (Dropout)        (None, 128)               0         \n",
            "_________________________________________________________________\n",
            "dense_579 (Dense)            (None, 128)               16512     \n",
            "_________________________________________________________________\n",
            "dropout_199 (Dropout)        (None, 128)               0         \n",
            "_________________________________________________________________\n",
            "dense_580 (Dense)            (None, 10)                1290      \n",
            "=================================================================\n",
            "Total params: 118,794\n",
            "Trainable params: 118,538\n",
            "Non-trainable params: 256\n",
            "_________________________________________________________________\n"
          ],
          "name": "stdout"
        },
        {
          "output_type": "display_data",
          "data": {
            "image/png": "[encoded data removed]",
            "text/plain": [
              "<Figure size 432x288 with 1 Axes>"
            ]
          },
          "metadata": {
            "tags": [],
            "needs_background": "light"
          }
        },
        {
          "output_type": "stream",
          "text": [
            "\n",
            "Test loss: 0.0795\n",
            "Test accuracy: 0.979\n"
          ],
          "name": "stdout"
        }
      ]
    },
    {
      "cell_type": "markdown",
      "metadata": {
        "id": "6Vxmp2PffMEl"
      },
      "source": [
        "## Observation on Dropout layer with multiple layers\n",
        "\n",
        "1. Dropout layer in itself did not help. Neither did the Kernel_constraint. These parameters are probably more useful in deep\n",
        "neural network\n",
        "2. Learning rate value of .005 got some decent results. Here too, in the initial epochs the model is unstable and starts \n",
        "overfitting with increasing epochs\n",
        "3. \n",
        "\n",
        "4. To prevent the model from becoming overfit, split the 256 neurons into two layers of 128 with drop layer"
      ]
    },
    {
      "cell_type": "markdown",
      "metadata": {
        "id": "hf6a3tIEfMEm"
      },
      "source": [
        "# Weight Initialization \n"
      ]
    },
    {
      "cell_type": "code",
      "metadata": {
        "id": "oA2D7kRqfMEn"
      },
      "source": [
        "#from keras.initializers import he_normal\n",
        "\n",
        "\n",
        "def create_model(wt_init):\n",
        "    model = Sequential()\n",
        "    model.add(Dense(88, activation='relu', input_shape=(784,), kernel_initializer = wt_init ))\n",
        "    model.add(Dropout(0.1))  # drop out for the first hidden layer   ----- > drop out\n",
        "    model.add(Dense(72, activation='relu', kernel_initializer = wt_init))\n",
        "    model.add(Dropout(0.2) )  # drop out for the second hidden layer   ----- > drop out\n",
        "    model.add(Dense(num_classes, activation='softmax'))  \n",
        "\n",
        "    return model\n",
        "\n",
        "\n"
      ],
      "execution_count": null,
      "outputs": []
    },
    {
      "cell_type": "code",
      "metadata": {
        "id": "SPgzqsQnfMEs"
      },
      "source": [
        "def run_model(model):\n",
        "    batch_size = 256    \n",
        "    epochs = 20\n",
        "    model.summary()\n",
        "    opt = tf.keras.optimizers.Adam(lr=0.05)\n",
        "  \n",
        "    model.compile(optimizer=opt, loss='categorical_crossentropy', metrics=['accuracy'])\n",
        "    history = model.fit(x_train, y_train, batch_size=batch_size, epochs=epochs, validation_split=.1, verbose=False)\n",
        "    loss, accuracy  = model.evaluate(x_test, y_test, verbose=False)\n",
        "  \n",
        "    plt.plot(history.history['accuracy'])\n",
        "    plt.plot(history.history['val_accuracy'])\n",
        "    plt.title('model accuracy')\n",
        "    plt.ylabel('accuracy')\n",
        "    plt.xlabel('epoch')\n",
        "    plt.legend(['training', 'validation'], loc='best')\n",
        "    plt.show()\n",
        "\n",
        "    print()\n",
        "    print(f'Test loss: {loss:.3}')\n",
        "    print(f'Test accuracy: {accuracy:.3}')\n"
      ],
      "execution_count": null,
      "outputs": []
    },
    {
      "cell_type": "code",
      "metadata": {
        "id": "laMnaUzKfMEu",
        "colab": {
          "base_uri": "https://localhost:8080/",
          "height": 648
        },
        "outputId": "df918932-dd13-4e83-e4ea-91dda3896231"
      },
      "source": [
        "wt_init = tf.keras.initializers.he_normal(seed=None)\n",
        "model = create_model(wt_init)\n",
        "run_model(model)"
      ],
      "execution_count": null,
      "outputs": [
        {
          "output_type": "stream",
          "text": [
            "Model: \"sequential_17\"\n",
            "_________________________________________________________________\n",
            "Layer (type)                 Output Shape              Param #   \n",
            "=================================================================\n",
            "dense_35 (Dense)             (None, 88)                69080     \n",
            "_________________________________________________________________\n",
            "dropout_1 (Dropout)          (None, 88)                0         \n",
            "_________________________________________________________________\n",
            "dense_36 (Dense)             (None, 72)                6408      \n",
            "_________________________________________________________________\n",
            "dropout_2 (Dropout)          (None, 72)                0         \n",
            "_________________________________________________________________\n",
            "dense_37 (Dense)             (None, 10)                730       \n",
            "=================================================================\n",
            "Total params: 76,218\n",
            "Trainable params: 76,218\n",
            "Non-trainable params: 0\n",
            "_________________________________________________________________\n"
          ],
          "name": "stdout"
        },
        {
          "output_type": "display_data",
          "data": {
            "image/png": "[encoded data removed]",
            "text/plain": [
              "<Figure size 432x288 with 1 Axes>"
            ]
          },
          "metadata": {
            "tags": []
          }
        },
        {
          "output_type": "stream",
          "text": [
            "\n",
            "Test loss: 0.362\n",
            "Test accuracy: 0.926\n"
          ],
          "name": "stdout"
        }
      ]
    },
    {
      "cell_type": "code",
      "metadata": {
        "id": "C4G020aTfMEw",
        "colab": {
          "base_uri": "https://localhost:8080/",
          "height": 282
        },
        "outputId": "15ecd598-190f-4768-97a0-c103b9e96b8f"
      },
      "source": [
        "ta = pd.DataFrame(history.history['accuracy'])\n",
        "va = pd.DataFrame(history.history['val_accuracy'])\n",
        "\n",
        "tva = pd.concat([ta,va] , axis=1)\n",
        "\n",
        "tva.boxplot()"
      ],
      "execution_count": null,
      "outputs": [
        {
          "output_type": "execute_result",
          "data": {
            "text/plain": [
              "<matplotlib.axes._subplots.AxesSubplot at 0x7fd7d709fef0>"
            ]
          },
          "metadata": {
            "tags": []
          },
          "execution_count": 41
        },
        {
          "output_type": "display_data",
          "data": {
            "image/png": "[encoded data removed]",
            "text/plain": [
              "<Figure size 432x288 with 1 Axes>"
            ]
          },
          "metadata": {
            "tags": []
          }
        }
      ]
    },
    {
      "cell_type": "code",
      "metadata": {
        "id": "LBrG-ni0fMEz"
      },
      "source": [
        "# Observations of including kernel initialier of He_norm and other parameters\n",
        "1. Frustrating! the model was looking very unstable with all the combinations of parameter values\n",
        "2. raised the batch size to 30,000 and got rid of the instability\n",
        "3. Avg accuracy of 98% in validation"
      ],
      "execution_count": null,
      "outputs": []
    },
    {
      "cell_type": "markdown",
      "metadata": {
        "id": "R6A72UVUfME0"
      },
      "source": [
        "# Grid Search"
      ]
    },
    {
      "cell_type": "code",
      "metadata": {
        "id": "79UJzx2bfME1"
      },
      "source": [
        "import numpy as np\n",
        "from keras.constraints import maxnorm\n",
        "from keras import backend as keras_backend\n",
        "from keras.utils import np_utils\n",
        "\n",
        "from keras.models import load_model\n",
        "\n",
        "from sklearn.model_selection import GridSearchCV, cross_val_score\n",
        "\n",
        "from keras.models import Sequential\n",
        "from keras.layers import Dense\n",
        "from keras.wrappers.scikit_learn import KerasClassifier\n",
        "\n",
        "\n",
        "from sklearn.model_selection import StratifiedKFold\n",
        "\n",
        "random_seed = 64\n",
        "np.random.seed(random_seed)\n",
        "\n"
      ],
      "execution_count": null,
      "outputs": []
    },
    {
      "cell_type": "code",
      "metadata": {
        "id": "zWrx74ayfME4",
        "colab": {
          "base_uri": "https://localhost:8080/",
          "height": 50
        },
        "outputId": "6b87e289-5d13-4d43-85cc-aa65fd5d7e5e"
      },
      "source": [
        "(x_train, y_train), (x_test, y_test) = mnist.load_data()\n",
        "\n",
        "num_classes = 10\n",
        "x_train = x_train.reshape(60000, 784)    # 784 = 28 X 28 the size of each image. There are 60000 images for training\n",
        "x_test = x_test.reshape(10000, 784)      # Images are flattended out into a vector of 784 elements\n",
        "x_train = keras_backend.cast_to_floatx(x_train)      # Change the data type to float from integer (0 - 255)\n",
        "x_test = keras_backend.cast_to_floatx(x_test)\n",
        "x_train /= 255.0                           # Scale the data between 0 and 1\n",
        "x_test /= 255.0\n",
        "\n",
        "original_y_train = y_train\n",
        "original_y_test = y_test\n",
        "\n",
        "y_train = keras.utils.to_categorical(y_train, num_classes)   # Converting the target into categorical which is stored as numeric\n",
        "y_test = keras.utils.to_categorical(y_test, num_classes)     # Keras converst these into 1-hot coded vectors as these are lables\n",
        "\n",
        "\n",
        "print ('Train size:', x_train.shape[0])\n",
        "print ('Test size:', x_test.shape[0])\n",
        "\n"
      ],
      "execution_count": null,
      "outputs": [
        {
          "output_type": "stream",
          "text": [
            "Train size: 60000\n",
            "Test size: 10000\n"
          ],
          "name": "stdout"
        }
      ]
    },
    {
      "cell_type": "code",
      "metadata": {
        "id": "I1xVFm4YfME6"
      },
      "source": [
        "# Function to create model, required for KerasClassifier\n",
        "def create_model(number_of_layers=2, neurons_per_layer = 32, dropout_percent = 0.2, optimizer='adam'):\n",
        "    # create model\n",
        "    model = Sequential()\n",
        "    model.add(Dense(neurons_per_layer, activation='relu', input_shape=(784,)))\n",
        "    \n",
        "    for i in range(number_of_layers-1):\n",
        "        model.add(Dense(neurons_per_layer, activation='relu', kernel_constraint = maxnorm(3)))\n",
        "        model.add(Dropout(dropout_percent))\n",
        "        \n",
        "    # Add the output layer with softmax\n",
        "    model.add(Dense(num_classes, kernel_initializer = 'normal', activation='softmax'))  \n",
        "        \n",
        "    \n",
        "    # Compile model\n",
        "    model.compile(loss='categorical_crossentropy', optimizer=optimizer, metrics=['accuracy'])\n",
        "   \n",
        "    return model"
      ],
      "execution_count": null,
      "outputs": []
    },
    {
      "cell_type": "code",
      "metadata": {
        "id": "sM4Hhs38fME9"
      },
      "source": [
        "# create model\n",
        "kc_model = KerasClassifier(build_fn=create_model,number_of_layers=2, neurons_per_layer = 256, optimizer = 'adam', epochs=20, batch_size=30000, verbose=0) # Wrapper for scikitlearn API, provides \n",
        "                                                                                    # facility to get scores \n"
      ],
      "execution_count": null,
      "outputs": []
    },
    {
      "cell_type": "code",
      "metadata": {
        "id": "jbuO5Q0gfME-"
      },
      "source": [
        "kfold = StratifiedKFold(n_splits = 2, shuffle=True, random_state = 64)"
      ],
      "execution_count": null,
      "outputs": []
    },
    {
      "cell_type": "code",
      "metadata": {
        "id": "uexEIEs1fMFB",
        "outputId": "8ecc5a99-da99-4f6b-ee28-dff3fc644580"
      },
      "source": [
        "results = cross_val_score(kc_model, x_train, original_y_train, cv=kfold, verbose=1)"
      ],
      "execution_count": null,
      "outputs": [
        {
          "output_type": "stream",
          "text": [
            "[Parallel(n_jobs=1)]: Using backend SequentialBackend with 1 concurrent workers.\n",
            "[Parallel(n_jobs=1)]: Done   2 out of   2 | elapsed:   47.6s finished\n"
          ],
          "name": "stderr"
        }
      ]
    },
    {
      "cell_type": "code",
      "metadata": {
        "id": "s02dWfytfMFF",
        "outputId": "19234ec8-a8d9-47db-bb8a-25085e3c2cd8"
      },
      "source": [
        "print('results = {}\\nresults.mean = {}'.format(results, results.mean()))"
      ],
      "execution_count": null,
      "outputs": [
        {
          "output_type": "stream",
          "text": [
            "results = [0.86606669 0.86923331]\n",
            "results.mean = 0.8676500022411346\n"
          ],
          "name": "stdout"
        }
      ]
    },
    {
      "cell_type": "code",
      "metadata": {
        "id": "_1iJR8RLfMFH"
      },
      "source": [
        "# define the grid search parameters\n",
        "\n",
        "param_grid = dict(number_of_layers = [2 , 3],\n",
        "                 neurons_per_layer = [32 , 128],\n",
        "                 optimizer = ['adam', 'sgd'])\n"
      ],
      "execution_count": null,
      "outputs": []
    },
    {
      "cell_type": "code",
      "metadata": {
        "id": "gp_4JxpKfMFJ"
      },
      "source": [
        "\n",
        "gridsearcher = GridSearchCV(estimator=kc_model, param_grid=param_grid, n_jobs=1)\n",
        "grid_result = gridsearcher.fit(x_train, original_y_train)"
      ],
      "execution_count": null,
      "outputs": []
    },
    {
      "cell_type": "code",
      "metadata": {
        "id": "xdIWLxUSfMFL",
        "outputId": "e342f586-209f-45f1-cda2-bc51d199ae99"
      },
      "source": [
        "print(\"Best: %f using %s\" % (grid_result.best_score_, grid_result.best_params_))\n",
        "means = grid_result.cv_results_['mean_test_score']\n",
        "stds = grid_result.cv_results_['std_test_score']\n",
        "params = grid_result.cv_results_['params']\n",
        "for mean, stdev, param in zip(means, stds, params):\n",
        "    print(\"%f (%f) with: %r\" % (mean, stdev, param))"
      ],
      "execution_count": null,
      "outputs": [
        {
          "output_type": "stream",
          "text": [
            "Best: 0.896217 using {'neurons_per_layer': 128, 'number_of_layers': 3, 'optimizer': 'adam'}\n",
            "0.692983 (0.062307) with: {'neurons_per_layer': 32, 'number_of_layers': 2, 'optimizer': 'adam'}\n",
            "0.132617 (0.011862) with: {'neurons_per_layer': 32, 'number_of_layers': 2, 'optimizer': 'sgd'}\n",
            "0.696050 (0.070442) with: {'neurons_per_layer': 32, 'number_of_layers': 3, 'optimizer': 'adam'}\n",
            "0.103217 (0.012092) with: {'neurons_per_layer': 32, 'number_of_layers': 3, 'optimizer': 'sgd'}\n",
            "0.885733 (0.004757) with: {'neurons_per_layer': 128, 'number_of_layers': 2, 'optimizer': 'adam'}\n",
            "0.186850 (0.035631) with: {'neurons_per_layer': 128, 'number_of_layers': 2, 'optimizer': 'sgd'}\n",
            "0.896217 (0.007259) with: {'neurons_per_layer': 128, 'number_of_layers': 3, 'optimizer': 'adam'}\n",
            "0.141967 (0.012928) with: {'neurons_per_layer': 128, 'number_of_layers': 3, 'optimizer': 'sgd'}\n"
          ],
          "name": "stdout"
        }
      ]
    },
    {
      "cell_type": "code",
      "metadata": {
        "id": "iZO9IxRtfMFO"
      },
      "source": [
        "#learn_rate = [0.001, 0.002]\n",
        "#momentum = [0.0, 0.1, 0.3]\n",
        "#optimizer = ['SGD', 'RMSprop', 'Adagrad', 'Adadelta', 'Adam', 'Adamax', 'Nadam']\n",
        "#init_mode = ['uniform', 'lecun_uniform', 'normal', 'glorot_normal', 'glorot_uniform', 'he_normal', 'he_uniform']\n",
        "# activation = ['relu', 'tanh', 'sigmoid']\n",
        "# dropout_rate = [0.0, 0.1, 0.2, 0.3, 0.4, 0.5, 0.6, 0.7, 0.8, 0.9]\n",
        "#neurons = [10, 12, 13, 14, 15]"
      ],
      "execution_count": null,
      "outputs": []
    },
    {
      "cell_type": "code",
      "metadata": {
        "id": "adobaRcEfMFQ"
      },
      "source": [
        ""
      ],
      "execution_count": null,
      "outputs": []
    }
  ]
}